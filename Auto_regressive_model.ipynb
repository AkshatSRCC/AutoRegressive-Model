{
  "nbformat": 4,
  "nbformat_minor": 0,
  "metadata": {
    "colab": {
      "provenance": []
    },
    "kernelspec": {
      "name": "python3",
      "display_name": "Python 3"
    },
    "language_info": {
      "name": "python"
    }
  },
  "cells": [
    {
      "cell_type": "code",
      "execution_count": null,
      "metadata": {
        "id": "Aa8r9jnWN3qv"
      },
      "outputs": [],
      "source": [
        "import pandas as pd\n",
        "import numpy as np\n",
        "import matplotlib.pyplot as plt\n",
        "import statsmodels.graphics.tsaplots as sgt\n",
        "from statsmodels.tsa.arima.model import ARIMA\n",
        "from scipy.stats.distributions import chi2\n",
        "import seaborn as sns\n",
        "sns.set()"
      ]
    },
    {
      "cell_type": "markdown",
      "source": [
        "Autoregressive Model : A linear model , where current period values are a sum of past outcomes multiplied by a numeric factor."
      ],
      "metadata": {
        "id": "Gi7i3sGei3z1"
      }
    },
    {
      "cell_type": "markdown",
      "source": [
        "(AR1)==>  x@t = c + bx@t-1 + E@t\n",
        "\n",
        "\n",
        "x@t-1 = the values of x during the previous period\n",
        "\n",
        "\n",
        "\n",
        "\n",
        "b = any numeric constant by which we multiply the lagged variable,\n",
        "|b| <1\n",
        "\n",
        "\n",
        "\n",
        "\n",
        "E@t = Residual , the diference between our prediction for period \"t\" and the correct value\n",
        "\n",
        "\n",
        "\n",
        "\n",
        "\n",
        "\n",
        "(AR2) ==>\n",
        "x@t = c + b1 x@t-1 + b2 x@t-2 +E@t    \n",
        "\n",
        "\n",
        "\n"
      ],
      "metadata": {
        "id": "5dJv-GU2jQ9b"
      }
    },
    {
      "cell_type": "markdown",
      "source": [
        "more lags ==> more complicated ==> more coefficients ==> more likely not significant"
      ],
      "metadata": {
        "id": "Ux6pX1XHlUtX"
      }
    },
    {
      "cell_type": "code",
      "source": [
        "raw_csv_data = pd.read_csv(\"Book1.csv\")\n",
        "df_comp = raw_csv_data.copy()\n",
        "df_comp.date = pd.to_datetime(df_comp.date, dayfirst = True)\n",
        "df_comp.set_index(\"date\", inplace = True)\n",
        "df_comp = df_comp.asfreq ('b')\n",
        "df_comp = df_comp.fillna(method= 'ffill')"
      ],
      "metadata": {
        "id": "kQcv2loVN7hL"
      },
      "execution_count": null,
      "outputs": []
    },
    {
      "cell_type": "code",
      "source": [
        "df_comp['market_value'] = df_comp.spx"
      ],
      "metadata": {
        "id": "N1e9-gI_N-TG"
      },
      "execution_count": null,
      "outputs": []
    },
    {
      "cell_type": "code",
      "source": [
        "df_comp['market_value'] = df_comp.ftse"
      ],
      "metadata": {
        "id": "bPeo1IQQOExq"
      },
      "execution_count": null,
      "outputs": []
    },
    {
      "cell_type": "code",
      "source": [
        "del df_comp['spx']\n",
        "del df_comp['dax']\n",
        "del df_comp['ftse']\n",
        "del df_comp['nikkei']\n",
        "size = int(len(df_comp)*0.8)\n",
        "df_test = df_comp.iloc[:size], df_comp.iloc[size:]"
      ],
      "metadata": {
        "id": "I7ldWZOlOKVc"
      },
      "execution_count": null,
      "outputs": []
    },
    {
      "cell_type": "markdown",
      "source": [
        "THE ACF (auto correlation function)"
      ],
      "metadata": {
        "id": "Ebh9h1gjOglS"
      }
    },
    {
      "cell_type": "code",
      "source": [
        "sgt.plot_acf(df_comp.market_value, zero = False, lags = 40)\n",
        "plt.title(\"ACF for Prices\", size = 20)\n",
        "plt.show()\n",
        "\n",
        "# the effects barely deteriorate over time\n",
        "# the more lags we include, the better our model will fit the data set we feed it\n",
        "# ACF captures both direct and indirect effect that previous value have on current one"
      ],
      "metadata": {
        "colab": {
          "base_uri": "https://localhost:8080/",
          "height": 465
        },
        "id": "_5HeC5uiOXXA",
        "outputId": "b46047c1-bb73-4462-9f29-7d61ca5752e9"
      },
      "execution_count": null,
      "outputs": [
        {
          "output_type": "display_data",
          "data": {
            "text/plain": [
              "<Figure size 640x480 with 1 Axes>"
            ],
            "image/png": "[encoded data removed]"
          },
          "metadata": {}
        }
      ]
    },
    {
      "cell_type": "markdown",
      "source": [
        "THE *PACF*(partial autocorrelation function)"
      ],
      "metadata": {
        "id": "dycOzpUlPmem"
      }
    },
    {
      "cell_type": "code",
      "source": [
        "sgt.plot_pacf(df_comp.market_value, lags = 40, alpha = 0.05, zero = False, method = ('ols'))\n",
        "plt.title(\"PACF for Prices\", size = 20)\n",
        "plt.show()\n",
        "\n",
        "#coefficients after 25th lag are not significant, so we can directly ignore them\n",
        "# this means less than 25 lags will work for us"
      ],
      "metadata": {
        "colab": {
          "base_uri": "https://localhost:8080/",
          "height": 465
        },
        "id": "Sb6Yiyi1O3WR",
        "outputId": "686bc4df-893e-4666-b22d-a1b9f9c9de8a"
      },
      "execution_count": null,
      "outputs": [
        {
          "output_type": "display_data",
          "data": {
            "text/plain": [
              "<Figure size 640x480 with 1 Axes>"
            ],
            "image/png": "[encoded data removed]"
          },
          "metadata": {}
        }
      ]
    },
    {
      "cell_type": "code",
      "source": [
        "# How to fit a time series into an auto-regressive model\n",
        "#AR(1)\n",
        "model_ar1 = ARIMA(df_comp.market_value, order =(1,0,0))\n",
        "# 1 means no. of past values we wish to incorporate, 0 means not taking any residual\n",
        "\n"
      ],
      "metadata": {
        "id": "rfKwl-mvQAOA"
      },
      "execution_count": null,
      "outputs": []
    },
    {
      "cell_type": "code",
      "source": [
        "results_ar1 = model_ar1.fit()"
      ],
      "metadata": {
        "id": "x5QrDK53eTHX"
      },
      "execution_count": null,
      "outputs": []
    },
    {
      "cell_type": "code",
      "source": [
        "results_ar1.summary()"
      ],
      "metadata": {
        "colab": {
          "base_uri": "https://localhost:8080/",
          "height": 420
        },
        "id": "BxAuf4lQeknx",
        "outputId": "a0c42bb0-3784-44dd-ff78-ad552aa7d540"
      },
      "execution_count": null,
      "outputs": [
        {
          "output_type": "execute_result",
          "data": {
            "text/plain": [
              "<class 'statsmodels.iolib.summary.Summary'>\n",
              "\"\"\"\n",
              "                               SARIMAX Results                                \n",
              "==============================================================================\n",
              "Dep. Variable:           market_value   No. Observations:                 6277\n",
              "Model:                 ARIMA(1, 0, 0)   Log Likelihood              -34437.979\n",
              "Date:                Tue, 13 Jun 2023   AIC                          68881.958\n",
              "Time:                        08:45:58   BIC                          68902.192\n",
              "Sample:                    01-07-1994   HQIC                         68888.968\n",
              "                         - 01-29-2018                                         \n",
              "Covariance Type:                  opg                                         \n",
              "==============================================================================\n",
              "                 coef    std err          z      P>|z|      [0.025      0.975]\n",
              "------------------------------------------------------------------------------\n",
              "const       5423.6820    560.775      9.672      0.000    4324.582    6522.782\n",
              "ar.L1          0.9990      0.001   1383.492      0.000       0.998       1.000\n",
              "sigma2      3407.9480     36.199     94.145      0.000    3337.000    3478.896\n",
              "===================================================================================\n",
              "Ljung-Box (L1) (Q):                   0.49   Jarque-Bera (JB):              3660.69\n",
              "Prob(Q):                              0.48   Prob(JB):                         0.00\n",
              "Heteroskedasticity (H):               1.05   Skew:                            -0.19\n",
              "Prob(H) (two-sided):                  0.23   Kurtosis:                         6.72\n",
              "===================================================================================\n",
              "\n",
              "Warnings:\n",
              "[1] Covariance matrix calculated using the outer product of gradients (complex-step).\n",
              "\"\"\""
            ],
            "text/html": [
              "<table class=\"simpletable\">\n",
              "<caption>SARIMAX Results</caption>\n",
              "<tr>\n",
              "  <th>Dep. Variable:</th>     <td>market_value</td>   <th>  No. Observations:  </th>    <td>6277</td>   \n",
              "</tr>\n",
              "<tr>\n",
              "  <th>Model:</th>            <td>ARIMA(1, 0, 0)</td>  <th>  Log Likelihood     </th> <td>-34437.979</td>\n",
              "</tr>\n",
              "<tr>\n",
              "  <th>Date:</th>            <td>Tue, 13 Jun 2023</td> <th>  AIC                </th>  <td>68881.958</td>\n",
              "</tr>\n",
              "<tr>\n",
              "  <th>Time:</th>                <td>08:45:58</td>     <th>  BIC                </th>  <td>68902.192</td>\n",
              "</tr>\n",
              "<tr>\n",
              "  <th>Sample:</th>             <td>01-07-1994</td>    <th>  HQIC               </th>  <td>68888.968</td>\n",
              "</tr>\n",
              "<tr>\n",
              "  <th></th>                   <td>- 01-29-2018</td>   <th>                     </th>      <td> </td>    \n",
              "</tr>\n",
              "<tr>\n",
              "  <th>Covariance Type:</th>        <td>opg</td>       <th>                     </th>      <td> </td>    \n",
              "</tr>\n",
              "</table>\n",
              "<table class=\"simpletable\">\n",
              "<tr>\n",
              "     <td></td>       <th>coef</th>     <th>std err</th>      <th>z</th>      <th>P>|z|</th>  <th>[0.025</th>    <th>0.975]</th>  \n",
              "</tr>\n",
              "<tr>\n",
              "  <th>const</th>  <td> 5423.6820</td> <td>  560.775</td> <td>    9.672</td> <td> 0.000</td> <td> 4324.582</td> <td> 6522.782</td>\n",
              "</tr>\n",
              "<tr>\n",
              "  <th>ar.L1</th>  <td>    0.9990</td> <td>    0.001</td> <td> 1383.492</td> <td> 0.000</td> <td>    0.998</td> <td>    1.000</td>\n",
              "</tr>\n",
              "<tr>\n",
              "  <th>sigma2</th> <td> 3407.9480</td> <td>   36.199</td> <td>   94.145</td> <td> 0.000</td> <td> 3337.000</td> <td> 3478.896</td>\n",
              "</tr>\n",
              "</table>\n",
              "<table class=\"simpletable\">\n",
              "<tr>\n",
              "  <th>Ljung-Box (L1) (Q):</th>     <td>0.49</td> <th>  Jarque-Bera (JB):  </th> <td>3660.69</td>\n",
              "</tr>\n",
              "<tr>\n",
              "  <th>Prob(Q):</th>                <td>0.48</td> <th>  Prob(JB):          </th>  <td>0.00</td>  \n",
              "</tr>\n",
              "<tr>\n",
              "  <th>Heteroskedasticity (H):</th> <td>1.05</td> <th>  Skew:              </th>  <td>-0.19</td> \n",
              "</tr>\n",
              "<tr>\n",
              "  <th>Prob(H) (two-sided):</th>    <td>0.23</td> <th>  Kurtosis:          </th>  <td>6.72</td>  \n",
              "</tr>\n",
              "</table><br/><br/>Warnings:<br/>[1] Covariance matrix calculated using the outer product of gradients (complex-step)."
            ]
          },
          "metadata": {},
          "execution_count": 11
        }
      ]
    },
    {
      "cell_type": "code",
      "source": [
        "model_ar2 = ARIMA(df_comp.market_value, order =(2,0,0))\n",
        "results_ar2 = model_ar2.fit()\n",
        "results_ar2.summary()"
      ],
      "metadata": {
        "colab": {
          "base_uri": "https://localhost:8080/",
          "height": 441
        },
        "id": "os7ypbNwfeeQ",
        "outputId": "5eb7676e-18b4-4f30-9c00-b5fae8ac9f01"
      },
      "execution_count": null,
      "outputs": [
        {
          "output_type": "execute_result",
          "data": {
            "text/plain": [
              "<class 'statsmodels.iolib.summary.Summary'>\n",
              "\"\"\"\n",
              "                               SARIMAX Results                                \n",
              "==============================================================================\n",
              "Dep. Variable:           market_value   No. Observations:                 6277\n",
              "Model:                 ARIMA(2, 0, 0)   Log Likelihood              -34437.842\n",
              "Date:                Tue, 13 Jun 2023   AIC                          68883.684\n",
              "Time:                        08:46:00   BIC                          68910.663\n",
              "Sample:                    01-07-1994   HQIC                         68893.032\n",
              "                         - 01-29-2018                                         \n",
              "Covariance Type:                  opg                                         \n",
              "==============================================================================\n",
              "                 coef    std err          z      P>|z|      [0.025      0.975]\n",
              "------------------------------------------------------------------------------\n",
              "const       5423.6798    480.212     11.294      0.000    4482.482    6364.878\n",
              "ar.L1          0.9902      0.009    112.935      0.000       0.973       1.007\n",
              "ar.L2          0.0086      0.009      0.982      0.326      -0.009       0.026\n",
              "sigma2      3407.5183     36.308     93.850      0.000    3336.356    3478.681\n",
              "===================================================================================\n",
              "Ljung-Box (L1) (Q):                   0.00   Jarque-Bera (JB):              3643.46\n",
              "Prob(Q):                              0.97   Prob(JB):                         0.00\n",
              "Heteroskedasticity (H):               1.05   Skew:                            -0.20\n",
              "Prob(H) (two-sided):                  0.24   Kurtosis:                         6.71\n",
              "===================================================================================\n",
              "\n",
              "Warnings:\n",
              "[1] Covariance matrix calculated using the outer product of gradients (complex-step).\n",
              "\"\"\""
            ],
            "text/html": [
              "<table class=\"simpletable\">\n",
              "<caption>SARIMAX Results</caption>\n",
              "<tr>\n",
              "  <th>Dep. Variable:</th>     <td>market_value</td>   <th>  No. Observations:  </th>    <td>6277</td>   \n",
              "</tr>\n",
              "<tr>\n",
              "  <th>Model:</th>            <td>ARIMA(2, 0, 0)</td>  <th>  Log Likelihood     </th> <td>-34437.842</td>\n",
              "</tr>\n",
              "<tr>\n",
              "  <th>Date:</th>            <td>Tue, 13 Jun 2023</td> <th>  AIC                </th>  <td>68883.684</td>\n",
              "</tr>\n",
              "<tr>\n",
              "  <th>Time:</th>                <td>08:46:00</td>     <th>  BIC                </th>  <td>68910.663</td>\n",
              "</tr>\n",
              "<tr>\n",
              "  <th>Sample:</th>             <td>01-07-1994</td>    <th>  HQIC               </th>  <td>68893.032</td>\n",
              "</tr>\n",
              "<tr>\n",
              "  <th></th>                   <td>- 01-29-2018</td>   <th>                     </th>      <td> </td>    \n",
              "</tr>\n",
              "<tr>\n",
              "  <th>Covariance Type:</th>        <td>opg</td>       <th>                     </th>      <td> </td>    \n",
              "</tr>\n",
              "</table>\n",
              "<table class=\"simpletable\">\n",
              "<tr>\n",
              "     <td></td>       <th>coef</th>     <th>std err</th>      <th>z</th>      <th>P>|z|</th>  <th>[0.025</th>    <th>0.975]</th>  \n",
              "</tr>\n",
              "<tr>\n",
              "  <th>const</th>  <td> 5423.6798</td> <td>  480.212</td> <td>   11.294</td> <td> 0.000</td> <td> 4482.482</td> <td> 6364.878</td>\n",
              "</tr>\n",
              "<tr>\n",
              "  <th>ar.L1</th>  <td>    0.9902</td> <td>    0.009</td> <td>  112.935</td> <td> 0.000</td> <td>    0.973</td> <td>    1.007</td>\n",
              "</tr>\n",
              "<tr>\n",
              "  <th>ar.L2</th>  <td>    0.0086</td> <td>    0.009</td> <td>    0.982</td> <td> 0.326</td> <td>   -0.009</td> <td>    0.026</td>\n",
              "</tr>\n",
              "<tr>\n",
              "  <th>sigma2</th> <td> 3407.5183</td> <td>   36.308</td> <td>   93.850</td> <td> 0.000</td> <td> 3336.356</td> <td> 3478.681</td>\n",
              "</tr>\n",
              "</table>\n",
              "<table class=\"simpletable\">\n",
              "<tr>\n",
              "  <th>Ljung-Box (L1) (Q):</th>     <td>0.00</td> <th>  Jarque-Bera (JB):  </th> <td>3643.46</td>\n",
              "</tr>\n",
              "<tr>\n",
              "  <th>Prob(Q):</th>                <td>0.97</td> <th>  Prob(JB):          </th>  <td>0.00</td>  \n",
              "</tr>\n",
              "<tr>\n",
              "  <th>Heteroskedasticity (H):</th> <td>1.05</td> <th>  Skew:              </th>  <td>-0.20</td> \n",
              "</tr>\n",
              "<tr>\n",
              "  <th>Prob(H) (two-sided):</th>    <td>0.24</td> <th>  Kurtosis:          </th>  <td>6.71</td>  \n",
              "</tr>\n",
              "</table><br/><br/>Warnings:<br/>[1] Covariance matrix calculated using the outer product of gradients (complex-step)."
            ]
          },
          "metadata": {},
          "execution_count": 12
        }
      ]
    },
    {
      "cell_type": "code",
      "source": [
        "model_ar3 = ARIMA(df_comp.market_value, order =(3,0,0))\n",
        "results_ar3 = model_ar3.fit()\n",
        "results_ar3.summary()"
      ],
      "metadata": {
        "colab": {
          "base_uri": "https://localhost:8080/",
          "height": 462
        },
        "id": "139BoC0gvtYi",
        "outputId": "a37f3c5e-908b-433b-84b0-e4592c9f2c4a"
      },
      "execution_count": null,
      "outputs": [
        {
          "output_type": "execute_result",
          "data": {
            "text/plain": [
              "<class 'statsmodels.iolib.summary.Summary'>\n",
              "\"\"\"\n",
              "                               SARIMAX Results                                \n",
              "==============================================================================\n",
              "Dep. Variable:           market_value   No. Observations:                 6277\n",
              "Model:                 ARIMA(3, 0, 0)   Log Likelihood              -34430.886\n",
              "Date:                Tue, 13 Jun 2023   AIC                          68871.771\n",
              "Time:                        08:46:02   BIC                          68905.495\n",
              "Sample:                    01-07-1994   HQIC                         68883.456\n",
              "                         - 01-29-2018                                         \n",
              "Covariance Type:                  opg                                         \n",
              "==============================================================================\n",
              "                 coef    std err          z      P>|z|      [0.025      0.975]\n",
              "------------------------------------------------------------------------------\n",
              "const       5423.6798    498.503     10.880      0.000    4446.633    6400.727\n",
              "ar.L1          0.9898      0.009    112.240      0.000       0.973       1.007\n",
              "ar.L2         -0.0381      0.012     -3.161      0.002      -0.062      -0.014\n",
              "ar.L3          0.0471      0.008      5.699      0.000       0.031       0.063\n",
              "sigma2      3400.3736     36.273     93.744      0.000    3329.280    3471.467\n",
              "===================================================================================\n",
              "Ljung-Box (L1) (Q):                   0.04   Jarque-Bera (JB):              3654.68\n",
              "Prob(Q):                              0.84   Prob(JB):                         0.00\n",
              "Heteroskedasticity (H):               1.06   Skew:                            -0.23\n",
              "Prob(H) (two-sided):                  0.20   Kurtosis:                         6.71\n",
              "===================================================================================\n",
              "\n",
              "Warnings:\n",
              "[1] Covariance matrix calculated using the outer product of gradients (complex-step).\n",
              "\"\"\""
            ],
            "text/html": [
              "<table class=\"simpletable\">\n",
              "<caption>SARIMAX Results</caption>\n",
              "<tr>\n",
              "  <th>Dep. Variable:</th>     <td>market_value</td>   <th>  No. Observations:  </th>    <td>6277</td>   \n",
              "</tr>\n",
              "<tr>\n",
              "  <th>Model:</th>            <td>ARIMA(3, 0, 0)</td>  <th>  Log Likelihood     </th> <td>-34430.886</td>\n",
              "</tr>\n",
              "<tr>\n",
              "  <th>Date:</th>            <td>Tue, 13 Jun 2023</td> <th>  AIC                </th>  <td>68871.771</td>\n",
              "</tr>\n",
              "<tr>\n",
              "  <th>Time:</th>                <td>08:46:02</td>     <th>  BIC                </th>  <td>68905.495</td>\n",
              "</tr>\n",
              "<tr>\n",
              "  <th>Sample:</th>             <td>01-07-1994</td>    <th>  HQIC               </th>  <td>68883.456</td>\n",
              "</tr>\n",
              "<tr>\n",
              "  <th></th>                   <td>- 01-29-2018</td>   <th>                     </th>      <td> </td>    \n",
              "</tr>\n",
              "<tr>\n",
              "  <th>Covariance Type:</th>        <td>opg</td>       <th>                     </th>      <td> </td>    \n",
              "</tr>\n",
              "</table>\n",
              "<table class=\"simpletable\">\n",
              "<tr>\n",
              "     <td></td>       <th>coef</th>     <th>std err</th>      <th>z</th>      <th>P>|z|</th>  <th>[0.025</th>    <th>0.975]</th>  \n",
              "</tr>\n",
              "<tr>\n",
              "  <th>const</th>  <td> 5423.6798</td> <td>  498.503</td> <td>   10.880</td> <td> 0.000</td> <td> 4446.633</td> <td> 6400.727</td>\n",
              "</tr>\n",
              "<tr>\n",
              "  <th>ar.L1</th>  <td>    0.9898</td> <td>    0.009</td> <td>  112.240</td> <td> 0.000</td> <td>    0.973</td> <td>    1.007</td>\n",
              "</tr>\n",
              "<tr>\n",
              "  <th>ar.L2</th>  <td>   -0.0381</td> <td>    0.012</td> <td>   -3.161</td> <td> 0.002</td> <td>   -0.062</td> <td>   -0.014</td>\n",
              "</tr>\n",
              "<tr>\n",
              "  <th>ar.L3</th>  <td>    0.0471</td> <td>    0.008</td> <td>    5.699</td> <td> 0.000</td> <td>    0.031</td> <td>    0.063</td>\n",
              "</tr>\n",
              "<tr>\n",
              "  <th>sigma2</th> <td> 3400.3736</td> <td>   36.273</td> <td>   93.744</td> <td> 0.000</td> <td> 3329.280</td> <td> 3471.467</td>\n",
              "</tr>\n",
              "</table>\n",
              "<table class=\"simpletable\">\n",
              "<tr>\n",
              "  <th>Ljung-Box (L1) (Q):</th>     <td>0.04</td> <th>  Jarque-Bera (JB):  </th> <td>3654.68</td>\n",
              "</tr>\n",
              "<tr>\n",
              "  <th>Prob(Q):</th>                <td>0.84</td> <th>  Prob(JB):          </th>  <td>0.00</td>  \n",
              "</tr>\n",
              "<tr>\n",
              "  <th>Heteroskedasticity (H):</th> <td>1.06</td> <th>  Skew:              </th>  <td>-0.23</td> \n",
              "</tr>\n",
              "<tr>\n",
              "  <th>Prob(H) (two-sided):</th>    <td>0.20</td> <th>  Kurtosis:          </th>  <td>6.71</td>  \n",
              "</tr>\n",
              "</table><br/><br/>Warnings:<br/>[1] Covariance matrix calculated using the outer product of gradients (complex-step)."
            ]
          },
          "metadata": {},
          "execution_count": 13
        }
      ]
    },
    {
      "cell_type": "code",
      "source": [
        "model_ar4 = ARIMA(df_comp.market_value, order =(4,0,0))\n",
        "results_ar4 = model_ar4.fit()\n",
        "results_ar4.summary()"
      ],
      "metadata": {
        "colab": {
          "base_uri": "https://localhost:8080/",
          "height": 483
        },
        "id": "Cr8I6rgcvwss",
        "outputId": "27ebdf3a-5c73-460d-ce9e-5cfb1cc87a09"
      },
      "execution_count": null,
      "outputs": [
        {
          "output_type": "execute_result",
          "data": {
            "text/plain": [
              "<class 'statsmodels.iolib.summary.Summary'>\n",
              "\"\"\"\n",
              "                               SARIMAX Results                                \n",
              "==============================================================================\n",
              "Dep. Variable:           market_value   No. Observations:                 6277\n",
              "Model:                 ARIMA(4, 0, 0)   Log Likelihood              -34421.768\n",
              "Date:                Tue, 13 Jun 2023   AIC                          68855.536\n",
              "Time:                        08:46:04   BIC                          68896.004\n",
              "Sample:                    01-07-1994   HQIC                         68869.557\n",
              "                         - 01-29-2018                                         \n",
              "Covariance Type:                  opg                                         \n",
              "==============================================================================\n",
              "                 coef    std err          z      P>|z|      [0.025      0.975]\n",
              "------------------------------------------------------------------------------\n",
              "const       5423.6798    518.610     10.458      0.000    4407.224    6440.136\n",
              "ar.L1          0.9873      0.009    111.237      0.000       0.970       1.005\n",
              "ar.L2         -0.0360      0.012     -2.970      0.003      -0.060      -0.012\n",
              "ar.L3         -0.0063      0.011     -0.550      0.582      -0.029       0.016\n",
              "ar.L4          0.0539      0.008      6.634      0.000       0.038       0.070\n",
              "sigma2      3390.7236     36.932     91.811      0.000    3318.339    3463.108\n",
              "===================================================================================\n",
              "Ljung-Box (L1) (Q):                   0.00   Jarque-Bera (JB):              3463.72\n",
              "Prob(Q):                              0.97   Prob(JB):                         0.00\n",
              "Heteroskedasticity (H):               1.07   Skew:                            -0.27\n",
              "Prob(H) (two-sided):                  0.15   Kurtosis:                         6.60\n",
              "===================================================================================\n",
              "\n",
              "Warnings:\n",
              "[1] Covariance matrix calculated using the outer product of gradients (complex-step).\n",
              "\"\"\""
            ],
            "text/html": [
              "<table class=\"simpletable\">\n",
              "<caption>SARIMAX Results</caption>\n",
              "<tr>\n",
              "  <th>Dep. Variable:</th>     <td>market_value</td>   <th>  No. Observations:  </th>    <td>6277</td>   \n",
              "</tr>\n",
              "<tr>\n",
              "  <th>Model:</th>            <td>ARIMA(4, 0, 0)</td>  <th>  Log Likelihood     </th> <td>-34421.768</td>\n",
              "</tr>\n",
              "<tr>\n",
              "  <th>Date:</th>            <td>Tue, 13 Jun 2023</td> <th>  AIC                </th>  <td>68855.536</td>\n",
              "</tr>\n",
              "<tr>\n",
              "  <th>Time:</th>                <td>08:46:04</td>     <th>  BIC                </th>  <td>68896.004</td>\n",
              "</tr>\n",
              "<tr>\n",
              "  <th>Sample:</th>             <td>01-07-1994</td>    <th>  HQIC               </th>  <td>68869.557</td>\n",
              "</tr>\n",
              "<tr>\n",
              "  <th></th>                   <td>- 01-29-2018</td>   <th>                     </th>      <td> </td>    \n",
              "</tr>\n",
              "<tr>\n",
              "  <th>Covariance Type:</th>        <td>opg</td>       <th>                     </th>      <td> </td>    \n",
              "</tr>\n",
              "</table>\n",
              "<table class=\"simpletable\">\n",
              "<tr>\n",
              "     <td></td>       <th>coef</th>     <th>std err</th>      <th>z</th>      <th>P>|z|</th>  <th>[0.025</th>    <th>0.975]</th>  \n",
              "</tr>\n",
              "<tr>\n",
              "  <th>const</th>  <td> 5423.6798</td> <td>  518.610</td> <td>   10.458</td> <td> 0.000</td> <td> 4407.224</td> <td> 6440.136</td>\n",
              "</tr>\n",
              "<tr>\n",
              "  <th>ar.L1</th>  <td>    0.9873</td> <td>    0.009</td> <td>  111.237</td> <td> 0.000</td> <td>    0.970</td> <td>    1.005</td>\n",
              "</tr>\n",
              "<tr>\n",
              "  <th>ar.L2</th>  <td>   -0.0360</td> <td>    0.012</td> <td>   -2.970</td> <td> 0.003</td> <td>   -0.060</td> <td>   -0.012</td>\n",
              "</tr>\n",
              "<tr>\n",
              "  <th>ar.L3</th>  <td>   -0.0063</td> <td>    0.011</td> <td>   -0.550</td> <td> 0.582</td> <td>   -0.029</td> <td>    0.016</td>\n",
              "</tr>\n",
              "<tr>\n",
              "  <th>ar.L4</th>  <td>    0.0539</td> <td>    0.008</td> <td>    6.634</td> <td> 0.000</td> <td>    0.038</td> <td>    0.070</td>\n",
              "</tr>\n",
              "<tr>\n",
              "  <th>sigma2</th> <td> 3390.7236</td> <td>   36.932</td> <td>   91.811</td> <td> 0.000</td> <td> 3318.339</td> <td> 3463.108</td>\n",
              "</tr>\n",
              "</table>\n",
              "<table class=\"simpletable\">\n",
              "<tr>\n",
              "  <th>Ljung-Box (L1) (Q):</th>     <td>0.00</td> <th>  Jarque-Bera (JB):  </th> <td>3463.72</td>\n",
              "</tr>\n",
              "<tr>\n",
              "  <th>Prob(Q):</th>                <td>0.97</td> <th>  Prob(JB):          </th>  <td>0.00</td>  \n",
              "</tr>\n",
              "<tr>\n",
              "  <th>Heteroskedasticity (H):</th> <td>1.07</td> <th>  Skew:              </th>  <td>-0.27</td> \n",
              "</tr>\n",
              "<tr>\n",
              "  <th>Prob(H) (two-sided):</th>    <td>0.15</td> <th>  Kurtosis:          </th>  <td>6.60</td>  \n",
              "</tr>\n",
              "</table><br/><br/>Warnings:<br/>[1] Covariance matrix calculated using the outer product of gradients (complex-step)."
            ]
          },
          "metadata": {},
          "execution_count": 14
        }
      ]
    },
    {
      "cell_type": "code",
      "source": [
        "model_ar5 = ARIMA(df_comp.market_value, order =(5,0,0))\n",
        "results_ar5 = model_ar5.fit()\n",
        "results_ar5.summary()"
      ],
      "metadata": {
        "colab": {
          "base_uri": "https://localhost:8080/",
          "height": 503
        },
        "id": "YUEy859hvzik",
        "outputId": "afa4814f-8b77-43ec-db08-b64ebb7e97e5"
      },
      "execution_count": null,
      "outputs": [
        {
          "output_type": "execute_result",
          "data": {
            "text/plain": [
              "<class 'statsmodels.iolib.summary.Summary'>\n",
              "\"\"\"\n",
              "                               SARIMAX Results                                \n",
              "==============================================================================\n",
              "Dep. Variable:           market_value   No. Observations:                 6277\n",
              "Model:                 ARIMA(5, 0, 0)   Log Likelihood              -34421.477\n",
              "Date:                Tue, 13 Jun 2023   AIC                          68856.955\n",
              "Time:                        08:46:05   BIC                          68904.167\n",
              "Sample:                    01-07-1994   HQIC                         68873.313\n",
              "                         - 01-29-2018                                         \n",
              "Covariance Type:                  opg                                         \n",
              "==============================================================================\n",
              "                 coef    std err          z      P>|z|      [0.025      0.975]\n",
              "------------------------------------------------------------------------------\n",
              "const       5423.6798    514.421     10.543      0.000    4415.432    6431.927\n",
              "ar.L1          0.9878      0.009    111.205      0.000       0.970       1.005\n",
              "ar.L2         -0.0361      0.012     -2.975      0.003      -0.060      -0.012\n",
              "ar.L3         -0.0066      0.011     -0.581      0.561      -0.029       0.016\n",
              "ar.L4          0.0635      0.012      5.439      0.000       0.041       0.086\n",
              "ar.L5         -0.0097      0.008     -1.185      0.236      -0.026       0.006\n",
              "sigma2      3390.9019     37.140     91.301      0.000    3318.110    3463.694\n",
              "===================================================================================\n",
              "Ljung-Box (L1) (Q):                   0.00   Jarque-Bera (JB):              3433.89\n",
              "Prob(Q):                              0.98   Prob(JB):                         0.00\n",
              "Heteroskedasticity (H):               1.07   Skew:                            -0.26\n",
              "Prob(H) (two-sided):                  0.14   Kurtosis:                         6.59\n",
              "===================================================================================\n",
              "\n",
              "Warnings:\n",
              "[1] Covariance matrix calculated using the outer product of gradients (complex-step).\n",
              "\"\"\""
            ],
            "text/html": [
              "<table class=\"simpletable\">\n",
              "<caption>SARIMAX Results</caption>\n",
              "<tr>\n",
              "  <th>Dep. Variable:</th>     <td>market_value</td>   <th>  No. Observations:  </th>    <td>6277</td>   \n",
              "</tr>\n",
              "<tr>\n",
              "  <th>Model:</th>            <td>ARIMA(5, 0, 0)</td>  <th>  Log Likelihood     </th> <td>-34421.477</td>\n",
              "</tr>\n",
              "<tr>\n",
              "  <th>Date:</th>            <td>Tue, 13 Jun 2023</td> <th>  AIC                </th>  <td>68856.955</td>\n",
              "</tr>\n",
              "<tr>\n",
              "  <th>Time:</th>                <td>08:46:05</td>     <th>  BIC                </th>  <td>68904.167</td>\n",
              "</tr>\n",
              "<tr>\n",
              "  <th>Sample:</th>             <td>01-07-1994</td>    <th>  HQIC               </th>  <td>68873.313</td>\n",
              "</tr>\n",
              "<tr>\n",
              "  <th></th>                   <td>- 01-29-2018</td>   <th>                     </th>      <td> </td>    \n",
              "</tr>\n",
              "<tr>\n",
              "  <th>Covariance Type:</th>        <td>opg</td>       <th>                     </th>      <td> </td>    \n",
              "</tr>\n",
              "</table>\n",
              "<table class=\"simpletable\">\n",
              "<tr>\n",
              "     <td></td>       <th>coef</th>     <th>std err</th>      <th>z</th>      <th>P>|z|</th>  <th>[0.025</th>    <th>0.975]</th>  \n",
              "</tr>\n",
              "<tr>\n",
              "  <th>const</th>  <td> 5423.6798</td> <td>  514.421</td> <td>   10.543</td> <td> 0.000</td> <td> 4415.432</td> <td> 6431.927</td>\n",
              "</tr>\n",
              "<tr>\n",
              "  <th>ar.L1</th>  <td>    0.9878</td> <td>    0.009</td> <td>  111.205</td> <td> 0.000</td> <td>    0.970</td> <td>    1.005</td>\n",
              "</tr>\n",
              "<tr>\n",
              "  <th>ar.L2</th>  <td>   -0.0361</td> <td>    0.012</td> <td>   -2.975</td> <td> 0.003</td> <td>   -0.060</td> <td>   -0.012</td>\n",
              "</tr>\n",
              "<tr>\n",
              "  <th>ar.L3</th>  <td>   -0.0066</td> <td>    0.011</td> <td>   -0.581</td> <td> 0.561</td> <td>   -0.029</td> <td>    0.016</td>\n",
              "</tr>\n",
              "<tr>\n",
              "  <th>ar.L4</th>  <td>    0.0635</td> <td>    0.012</td> <td>    5.439</td> <td> 0.000</td> <td>    0.041</td> <td>    0.086</td>\n",
              "</tr>\n",
              "<tr>\n",
              "  <th>ar.L5</th>  <td>   -0.0097</td> <td>    0.008</td> <td>   -1.185</td> <td> 0.236</td> <td>   -0.026</td> <td>    0.006</td>\n",
              "</tr>\n",
              "<tr>\n",
              "  <th>sigma2</th> <td> 3390.9019</td> <td>   37.140</td> <td>   91.301</td> <td> 0.000</td> <td> 3318.110</td> <td> 3463.694</td>\n",
              "</tr>\n",
              "</table>\n",
              "<table class=\"simpletable\">\n",
              "<tr>\n",
              "  <th>Ljung-Box (L1) (Q):</th>     <td>0.00</td> <th>  Jarque-Bera (JB):  </th> <td>3433.89</td>\n",
              "</tr>\n",
              "<tr>\n",
              "  <th>Prob(Q):</th>                <td>0.98</td> <th>  Prob(JB):          </th>  <td>0.00</td>  \n",
              "</tr>\n",
              "<tr>\n",
              "  <th>Heteroskedasticity (H):</th> <td>1.07</td> <th>  Skew:              </th>  <td>-0.26</td> \n",
              "</tr>\n",
              "<tr>\n",
              "  <th>Prob(H) (two-sided):</th>    <td>0.14</td> <th>  Kurtosis:          </th>  <td>6.59</td>  \n",
              "</tr>\n",
              "</table><br/><br/>Warnings:<br/>[1] Covariance matrix calculated using the outer product of gradients (complex-step)."
            ]
          },
          "metadata": {},
          "execution_count": 15
        }
      ]
    },
    {
      "cell_type": "code",
      "source": [
        "model_ar6 = ARIMA(df_comp.market_value, order =(6,0,0))\n",
        "results_ar6 = model_ar6.fit()\n",
        "results_ar6.summary()"
      ],
      "metadata": {
        "colab": {
          "base_uri": "https://localhost:8080/",
          "height": 524
        },
        "id": "ZoOA3Ib1v2C3",
        "outputId": "60d8b891-93be-4b2d-d28d-dbb77cf3d98f"
      },
      "execution_count": null,
      "outputs": [
        {
          "output_type": "execute_result",
          "data": {
            "text/plain": [
              "<class 'statsmodels.iolib.summary.Summary'>\n",
              "\"\"\"\n",
              "                               SARIMAX Results                                \n",
              "==============================================================================\n",
              "Dep. Variable:           market_value   No. Observations:                 6277\n",
              "Model:                 ARIMA(6, 0, 0)   Log Likelihood              -34416.802\n",
              "Date:                Tue, 13 Jun 2023   AIC                          68849.604\n",
              "Time:                        08:46:07   BIC                          68903.561\n",
              "Sample:                    01-07-1994   HQIC                         68868.299\n",
              "                         - 01-29-2018                                         \n",
              "Covariance Type:                  opg                                         \n",
              "==============================================================================\n",
              "                 coef    std err          z      P>|z|      [0.025      0.975]\n",
              "------------------------------------------------------------------------------\n",
              "const       5423.6798    535.041     10.137      0.000    4375.019    6472.340\n",
              "ar.L1          0.9882      0.009    110.213      0.000       0.971       1.006\n",
              "ar.L2         -0.0385      0.012     -3.148      0.002      -0.063      -0.015\n",
              "ar.L3         -0.0064      0.011     -0.556      0.578      -0.029       0.016\n",
              "ar.L4          0.0649      0.012      5.557      0.000       0.042       0.088\n",
              "ar.L5         -0.0478      0.011     -4.259      0.000      -0.070      -0.026\n",
              "ar.L6          0.0385      0.008      4.691      0.000       0.022       0.055\n",
              "sigma2      3386.2104     37.063     91.363      0.000    3313.568    3458.853\n",
              "===================================================================================\n",
              "Ljung-Box (L1) (Q):                   0.01   Jarque-Bera (JB):              3438.42\n",
              "Prob(Q):                              0.92   Prob(JB):                         0.00\n",
              "Heteroskedasticity (H):               1.07   Skew:                            -0.28\n",
              "Prob(H) (two-sided):                  0.14   Kurtosis:                         6.58\n",
              "===================================================================================\n",
              "\n",
              "Warnings:\n",
              "[1] Covariance matrix calculated using the outer product of gradients (complex-step).\n",
              "\"\"\""
            ],
            "text/html": [
              "<table class=\"simpletable\">\n",
              "<caption>SARIMAX Results</caption>\n",
              "<tr>\n",
              "  <th>Dep. Variable:</th>     <td>market_value</td>   <th>  No. Observations:  </th>    <td>6277</td>   \n",
              "</tr>\n",
              "<tr>\n",
              "  <th>Model:</th>            <td>ARIMA(6, 0, 0)</td>  <th>  Log Likelihood     </th> <td>-34416.802</td>\n",
              "</tr>\n",
              "<tr>\n",
              "  <th>Date:</th>            <td>Tue, 13 Jun 2023</td> <th>  AIC                </th>  <td>68849.604</td>\n",
              "</tr>\n",
              "<tr>\n",
              "  <th>Time:</th>                <td>08:46:07</td>     <th>  BIC                </th>  <td>68903.561</td>\n",
              "</tr>\n",
              "<tr>\n",
              "  <th>Sample:</th>             <td>01-07-1994</td>    <th>  HQIC               </th>  <td>68868.299</td>\n",
              "</tr>\n",
              "<tr>\n",
              "  <th></th>                   <td>- 01-29-2018</td>   <th>                     </th>      <td> </td>    \n",
              "</tr>\n",
              "<tr>\n",
              "  <th>Covariance Type:</th>        <td>opg</td>       <th>                     </th>      <td> </td>    \n",
              "</tr>\n",
              "</table>\n",
              "<table class=\"simpletable\">\n",
              "<tr>\n",
              "     <td></td>       <th>coef</th>     <th>std err</th>      <th>z</th>      <th>P>|z|</th>  <th>[0.025</th>    <th>0.975]</th>  \n",
              "</tr>\n",
              "<tr>\n",
              "  <th>const</th>  <td> 5423.6798</td> <td>  535.041</td> <td>   10.137</td> <td> 0.000</td> <td> 4375.019</td> <td> 6472.340</td>\n",
              "</tr>\n",
              "<tr>\n",
              "  <th>ar.L1</th>  <td>    0.9882</td> <td>    0.009</td> <td>  110.213</td> <td> 0.000</td> <td>    0.971</td> <td>    1.006</td>\n",
              "</tr>\n",
              "<tr>\n",
              "  <th>ar.L2</th>  <td>   -0.0385</td> <td>    0.012</td> <td>   -3.148</td> <td> 0.002</td> <td>   -0.063</td> <td>   -0.015</td>\n",
              "</tr>\n",
              "<tr>\n",
              "  <th>ar.L3</th>  <td>   -0.0064</td> <td>    0.011</td> <td>   -0.556</td> <td> 0.578</td> <td>   -0.029</td> <td>    0.016</td>\n",
              "</tr>\n",
              "<tr>\n",
              "  <th>ar.L4</th>  <td>    0.0649</td> <td>    0.012</td> <td>    5.557</td> <td> 0.000</td> <td>    0.042</td> <td>    0.088</td>\n",
              "</tr>\n",
              "<tr>\n",
              "  <th>ar.L5</th>  <td>   -0.0478</td> <td>    0.011</td> <td>   -4.259</td> <td> 0.000</td> <td>   -0.070</td> <td>   -0.026</td>\n",
              "</tr>\n",
              "<tr>\n",
              "  <th>ar.L6</th>  <td>    0.0385</td> <td>    0.008</td> <td>    4.691</td> <td> 0.000</td> <td>    0.022</td> <td>    0.055</td>\n",
              "</tr>\n",
              "<tr>\n",
              "  <th>sigma2</th> <td> 3386.2104</td> <td>   37.063</td> <td>   91.363</td> <td> 0.000</td> <td> 3313.568</td> <td> 3458.853</td>\n",
              "</tr>\n",
              "</table>\n",
              "<table class=\"simpletable\">\n",
              "<tr>\n",
              "  <th>Ljung-Box (L1) (Q):</th>     <td>0.01</td> <th>  Jarque-Bera (JB):  </th> <td>3438.42</td>\n",
              "</tr>\n",
              "<tr>\n",
              "  <th>Prob(Q):</th>                <td>0.92</td> <th>  Prob(JB):          </th>  <td>0.00</td>  \n",
              "</tr>\n",
              "<tr>\n",
              "  <th>Heteroskedasticity (H):</th> <td>1.07</td> <th>  Skew:              </th>  <td>-0.28</td> \n",
              "</tr>\n",
              "<tr>\n",
              "  <th>Prob(H) (two-sided):</th>    <td>0.14</td> <th>  Kurtosis:          </th>  <td>6.58</td>  \n",
              "</tr>\n",
              "</table><br/><br/>Warnings:<br/>[1] Covariance matrix calculated using the outer product of gradients (complex-step)."
            ]
          },
          "metadata": {},
          "execution_count": 16
        }
      ]
    },
    {
      "cell_type": "code",
      "source": [
        "model_ar7 = ARIMA(df_comp.market_value, order =(7,0,0))\n",
        "results_ar7 = model_ar7.fit()\n",
        "results_ar7.summary()"
      ],
      "metadata": {
        "colab": {
          "base_uri": "https://localhost:8080/",
          "height": 545
        },
        "id": "mftKgxejv5Lz",
        "outputId": "3440b5d6-fa70-4223-b3c0-7d749248189d"
      },
      "execution_count": null,
      "outputs": [
        {
          "output_type": "execute_result",
          "data": {
            "text/plain": [
              "<class 'statsmodels.iolib.summary.Summary'>\n",
              "\"\"\"\n",
              "                               SARIMAX Results                                \n",
              "==============================================================================\n",
              "Dep. Variable:           market_value   No. Observations:                 6277\n",
              "Model:                 ARIMA(7, 0, 0)   Log Likelihood              -34414.286\n",
              "Date:                Tue, 13 Jun 2023   AIC                          68846.572\n",
              "Time:                        08:46:10   BIC                          68907.274\n",
              "Sample:                    01-07-1994   HQIC                         68867.604\n",
              "                         - 01-29-2018                                         \n",
              "Covariance Type:                  opg                                         \n",
              "==============================================================================\n",
              "                 coef    std err          z      P>|z|      [0.025      0.975]\n",
              "------------------------------------------------------------------------------\n",
              "const       5423.6798    548.164      9.894      0.000    4349.297    6498.062\n",
              "ar.L1          0.9871      0.009    109.238      0.000       0.969       1.005\n",
              "ar.L2         -0.0372      0.012     -2.996      0.003      -0.062      -0.013\n",
              "ar.L3         -0.0082      0.011     -0.714      0.475      -0.031       0.014\n",
              "ar.L4          0.0650      0.012      5.572      0.000       0.042       0.088\n",
              "ar.L5         -0.0467      0.011     -4.157      0.000      -0.069      -0.025\n",
              "ar.L6          0.0106      0.012      0.916      0.360      -0.012       0.033\n",
              "ar.L7          0.0283      0.009      3.233      0.001       0.011       0.045\n",
              "sigma2      3384.0371     37.041     91.360      0.000    3311.438    3456.636\n",
              "===================================================================================\n",
              "Ljung-Box (L1) (Q):                   0.00   Jarque-Bera (JB):              3452.85\n",
              "Prob(Q):                              1.00   Prob(JB):                         0.00\n",
              "Heteroskedasticity (H):               1.07   Skew:                            -0.29\n",
              "Prob(H) (two-sided):                  0.12   Kurtosis:                         6.59\n",
              "===================================================================================\n",
              "\n",
              "Warnings:\n",
              "[1] Covariance matrix calculated using the outer product of gradients (complex-step).\n",
              "\"\"\""
            ],
            "text/html": [
              "<table class=\"simpletable\">\n",
              "<caption>SARIMAX Results</caption>\n",
              "<tr>\n",
              "  <th>Dep. Variable:</th>     <td>market_value</td>   <th>  No. Observations:  </th>    <td>6277</td>   \n",
              "</tr>\n",
              "<tr>\n",
              "  <th>Model:</th>            <td>ARIMA(7, 0, 0)</td>  <th>  Log Likelihood     </th> <td>-34414.286</td>\n",
              "</tr>\n",
              "<tr>\n",
              "  <th>Date:</th>            <td>Tue, 13 Jun 2023</td> <th>  AIC                </th>  <td>68846.572</td>\n",
              "</tr>\n",
              "<tr>\n",
              "  <th>Time:</th>                <td>08:46:10</td>     <th>  BIC                </th>  <td>68907.274</td>\n",
              "</tr>\n",
              "<tr>\n",
              "  <th>Sample:</th>             <td>01-07-1994</td>    <th>  HQIC               </th>  <td>68867.604</td>\n",
              "</tr>\n",
              "<tr>\n",
              "  <th></th>                   <td>- 01-29-2018</td>   <th>                     </th>      <td> </td>    \n",
              "</tr>\n",
              "<tr>\n",
              "  <th>Covariance Type:</th>        <td>opg</td>       <th>                     </th>      <td> </td>    \n",
              "</tr>\n",
              "</table>\n",
              "<table class=\"simpletable\">\n",
              "<tr>\n",
              "     <td></td>       <th>coef</th>     <th>std err</th>      <th>z</th>      <th>P>|z|</th>  <th>[0.025</th>    <th>0.975]</th>  \n",
              "</tr>\n",
              "<tr>\n",
              "  <th>const</th>  <td> 5423.6798</td> <td>  548.164</td> <td>    9.894</td> <td> 0.000</td> <td> 4349.297</td> <td> 6498.062</td>\n",
              "</tr>\n",
              "<tr>\n",
              "  <th>ar.L1</th>  <td>    0.9871</td> <td>    0.009</td> <td>  109.238</td> <td> 0.000</td> <td>    0.969</td> <td>    1.005</td>\n",
              "</tr>\n",
              "<tr>\n",
              "  <th>ar.L2</th>  <td>   -0.0372</td> <td>    0.012</td> <td>   -2.996</td> <td> 0.003</td> <td>   -0.062</td> <td>   -0.013</td>\n",
              "</tr>\n",
              "<tr>\n",
              "  <th>ar.L3</th>  <td>   -0.0082</td> <td>    0.011</td> <td>   -0.714</td> <td> 0.475</td> <td>   -0.031</td> <td>    0.014</td>\n",
              "</tr>\n",
              "<tr>\n",
              "  <th>ar.L4</th>  <td>    0.0650</td> <td>    0.012</td> <td>    5.572</td> <td> 0.000</td> <td>    0.042</td> <td>    0.088</td>\n",
              "</tr>\n",
              "<tr>\n",
              "  <th>ar.L5</th>  <td>   -0.0467</td> <td>    0.011</td> <td>   -4.157</td> <td> 0.000</td> <td>   -0.069</td> <td>   -0.025</td>\n",
              "</tr>\n",
              "<tr>\n",
              "  <th>ar.L6</th>  <td>    0.0106</td> <td>    0.012</td> <td>    0.916</td> <td> 0.360</td> <td>   -0.012</td> <td>    0.033</td>\n",
              "</tr>\n",
              "<tr>\n",
              "  <th>ar.L7</th>  <td>    0.0283</td> <td>    0.009</td> <td>    3.233</td> <td> 0.001</td> <td>    0.011</td> <td>    0.045</td>\n",
              "</tr>\n",
              "<tr>\n",
              "  <th>sigma2</th> <td> 3384.0371</td> <td>   37.041</td> <td>   91.360</td> <td> 0.000</td> <td> 3311.438</td> <td> 3456.636</td>\n",
              "</tr>\n",
              "</table>\n",
              "<table class=\"simpletable\">\n",
              "<tr>\n",
              "  <th>Ljung-Box (L1) (Q):</th>     <td>0.00</td> <th>  Jarque-Bera (JB):  </th> <td>3452.85</td>\n",
              "</tr>\n",
              "<tr>\n",
              "  <th>Prob(Q):</th>                <td>1.00</td> <th>  Prob(JB):          </th>  <td>0.00</td>  \n",
              "</tr>\n",
              "<tr>\n",
              "  <th>Heteroskedasticity (H):</th> <td>1.07</td> <th>  Skew:              </th>  <td>-0.29</td> \n",
              "</tr>\n",
              "<tr>\n",
              "  <th>Prob(H) (two-sided):</th>    <td>0.12</td> <th>  Kurtosis:          </th>  <td>6.59</td>  \n",
              "</tr>\n",
              "</table><br/><br/>Warnings:<br/>[1] Covariance matrix calculated using the outer product of gradients (complex-step)."
            ]
          },
          "metadata": {},
          "execution_count": 17
        }
      ]
    },
    {
      "cell_type": "code",
      "source": [
        "model_ar8 = ARIMA(df_comp.market_value, order =(8,0,0))\n",
        "results_ar8 = model_ar8.fit()\n",
        "results_ar8.summary()"
      ],
      "metadata": {
        "colab": {
          "base_uri": "https://localhost:8080/",
          "height": 566
        },
        "id": "q1kQohF5v7Zt",
        "outputId": "455e85d2-8ea8-4244-9066-c66818a266d5"
      },
      "execution_count": null,
      "outputs": [
        {
          "output_type": "execute_result",
          "data": {
            "text/plain": [
              "<class 'statsmodels.iolib.summary.Summary'>\n",
              "\"\"\"\n",
              "                               SARIMAX Results                                \n",
              "==============================================================================\n",
              "Dep. Variable:           market_value   No. Observations:                 6277\n",
              "Model:                 ARIMA(8, 0, 0)   Log Likelihood              -34414.200\n",
              "Date:                Tue, 13 Jun 2023   AIC                          68848.400\n",
              "Time:                        08:46:13   BIC                          68915.847\n",
              "Sample:                    01-07-1994   HQIC                         68871.769\n",
              "                         - 01-29-2018                                         \n",
              "Covariance Type:                  opg                                         \n",
              "==============================================================================\n",
              "                 coef    std err          z      P>|z|      [0.025      0.975]\n",
              "------------------------------------------------------------------------------\n",
              "const       5423.6798    550.331      9.855      0.000    4345.051    6502.309\n",
              "ar.L1          0.9873      0.009    109.205      0.000       0.970       1.005\n",
              "ar.L2         -0.0372      0.012     -2.988      0.003      -0.062      -0.013\n",
              "ar.L3         -0.0085      0.012     -0.731      0.465      -0.031       0.014\n",
              "ar.L4          0.0654      0.012      5.553      0.000       0.042       0.088\n",
              "ar.L5         -0.0467      0.011     -4.159      0.000      -0.069      -0.025\n",
              "ar.L6          0.0104      0.012      0.898      0.369      -0.012       0.033\n",
              "ar.L7          0.0333      0.013      2.618      0.009       0.008       0.058\n",
              "ar.L8         -0.0051      0.009     -0.569      0.569      -0.023       0.012\n",
              "sigma2      3384.3667     37.098     91.229      0.000    3311.657    3457.077\n",
              "===================================================================================\n",
              "Ljung-Box (L1) (Q):                   0.00   Jarque-Bera (JB):              3446.41\n",
              "Prob(Q):                              0.99   Prob(JB):                         0.00\n",
              "Heteroskedasticity (H):               1.07   Skew:                            -0.29\n",
              "Prob(H) (two-sided):                  0.12   Kurtosis:                         6.58\n",
              "===================================================================================\n",
              "\n",
              "Warnings:\n",
              "[1] Covariance matrix calculated using the outer product of gradients (complex-step).\n",
              "\"\"\""
            ],
            "text/html": [
              "<table class=\"simpletable\">\n",
              "<caption>SARIMAX Results</caption>\n",
              "<tr>\n",
              "  <th>Dep. Variable:</th>     <td>market_value</td>   <th>  No. Observations:  </th>    <td>6277</td>   \n",
              "</tr>\n",
              "<tr>\n",
              "  <th>Model:</th>            <td>ARIMA(8, 0, 0)</td>  <th>  Log Likelihood     </th> <td>-34414.200</td>\n",
              "</tr>\n",
              "<tr>\n",
              "  <th>Date:</th>            <td>Tue, 13 Jun 2023</td> <th>  AIC                </th>  <td>68848.400</td>\n",
              "</tr>\n",
              "<tr>\n",
              "  <th>Time:</th>                <td>08:46:13</td>     <th>  BIC                </th>  <td>68915.847</td>\n",
              "</tr>\n",
              "<tr>\n",
              "  <th>Sample:</th>             <td>01-07-1994</td>    <th>  HQIC               </th>  <td>68871.769</td>\n",
              "</tr>\n",
              "<tr>\n",
              "  <th></th>                   <td>- 01-29-2018</td>   <th>                     </th>      <td> </td>    \n",
              "</tr>\n",
              "<tr>\n",
              "  <th>Covariance Type:</th>        <td>opg</td>       <th>                     </th>      <td> </td>    \n",
              "</tr>\n",
              "</table>\n",
              "<table class=\"simpletable\">\n",
              "<tr>\n",
              "     <td></td>       <th>coef</th>     <th>std err</th>      <th>z</th>      <th>P>|z|</th>  <th>[0.025</th>    <th>0.975]</th>  \n",
              "</tr>\n",
              "<tr>\n",
              "  <th>const</th>  <td> 5423.6798</td> <td>  550.331</td> <td>    9.855</td> <td> 0.000</td> <td> 4345.051</td> <td> 6502.309</td>\n",
              "</tr>\n",
              "<tr>\n",
              "  <th>ar.L1</th>  <td>    0.9873</td> <td>    0.009</td> <td>  109.205</td> <td> 0.000</td> <td>    0.970</td> <td>    1.005</td>\n",
              "</tr>\n",
              "<tr>\n",
              "  <th>ar.L2</th>  <td>   -0.0372</td> <td>    0.012</td> <td>   -2.988</td> <td> 0.003</td> <td>   -0.062</td> <td>   -0.013</td>\n",
              "</tr>\n",
              "<tr>\n",
              "  <th>ar.L3</th>  <td>   -0.0085</td> <td>    0.012</td> <td>   -0.731</td> <td> 0.465</td> <td>   -0.031</td> <td>    0.014</td>\n",
              "</tr>\n",
              "<tr>\n",
              "  <th>ar.L4</th>  <td>    0.0654</td> <td>    0.012</td> <td>    5.553</td> <td> 0.000</td> <td>    0.042</td> <td>    0.088</td>\n",
              "</tr>\n",
              "<tr>\n",
              "  <th>ar.L5</th>  <td>   -0.0467</td> <td>    0.011</td> <td>   -4.159</td> <td> 0.000</td> <td>   -0.069</td> <td>   -0.025</td>\n",
              "</tr>\n",
              "<tr>\n",
              "  <th>ar.L6</th>  <td>    0.0104</td> <td>    0.012</td> <td>    0.898</td> <td> 0.369</td> <td>   -0.012</td> <td>    0.033</td>\n",
              "</tr>\n",
              "<tr>\n",
              "  <th>ar.L7</th>  <td>    0.0333</td> <td>    0.013</td> <td>    2.618</td> <td> 0.009</td> <td>    0.008</td> <td>    0.058</td>\n",
              "</tr>\n",
              "<tr>\n",
              "  <th>ar.L8</th>  <td>   -0.0051</td> <td>    0.009</td> <td>   -0.569</td> <td> 0.569</td> <td>   -0.023</td> <td>    0.012</td>\n",
              "</tr>\n",
              "<tr>\n",
              "  <th>sigma2</th> <td> 3384.3667</td> <td>   37.098</td> <td>   91.229</td> <td> 0.000</td> <td> 3311.657</td> <td> 3457.077</td>\n",
              "</tr>\n",
              "</table>\n",
              "<table class=\"simpletable\">\n",
              "<tr>\n",
              "  <th>Ljung-Box (L1) (Q):</th>     <td>0.00</td> <th>  Jarque-Bera (JB):  </th> <td>3446.41</td>\n",
              "</tr>\n",
              "<tr>\n",
              "  <th>Prob(Q):</th>                <td>0.99</td> <th>  Prob(JB):          </th>  <td>0.00</td>  \n",
              "</tr>\n",
              "<tr>\n",
              "  <th>Heteroskedasticity (H):</th> <td>1.07</td> <th>  Skew:              </th>  <td>-0.29</td> \n",
              "</tr>\n",
              "<tr>\n",
              "  <th>Prob(H) (two-sided):</th>    <td>0.12</td> <th>  Kurtosis:          </th>  <td>6.58</td>  \n",
              "</tr>\n",
              "</table><br/><br/>Warnings:<br/>[1] Covariance matrix calculated using the outer product of gradients (complex-step)."
            ]
          },
          "metadata": {},
          "execution_count": 18
        }
      ]
    },
    {
      "cell_type": "markdown",
      "source": [
        "LLR TEST"
      ],
      "metadata": {
        "id": "F3WsfHKxh1O6"
      }
    },
    {
      "cell_type": "code",
      "source": [
        "def LLR_test(mod_1,mod_2, DF=1):\n",
        "    L1 = mod_1.fit().llf\n",
        "    L2 = mod_2.fit().llf\n",
        "    LR = (2*(L2-L1))\n",
        "    p = chi2.sf(LR,DF).round(3)\n",
        "    return p"
      ],
      "metadata": {
        "id": "-gvKI-wgh2aX"
      },
      "execution_count": null,
      "outputs": []
    },
    {
      "cell_type": "markdown",
      "source": [
        "Comparing Higher Lag AR Models"
      ],
      "metadata": {
        "id": "jMbGvilTiw4z"
      }
    },
    {
      "cell_type": "code",
      "source": [
        "LLR_test(model_ar2, model_ar3)"
      ],
      "metadata": {
        "colab": {
          "base_uri": "https://localhost:8080/"
        },
        "id": "1Y3lyEgqiqTC",
        "outputId": "abd93011-ce98-45ba-c660-661874a8139c"
      },
      "execution_count": null,
      "outputs": [
        {
          "output_type": "execute_result",
          "data": {
            "text/plain": [
              "0.0"
            ]
          },
          "metadata": {},
          "execution_count": 20
        }
      ]
    },
    {
      "cell_type": "code",
      "source": [
        "LLR_test(model_ar5, model_ar6)"
      ],
      "metadata": {
        "colab": {
          "base_uri": "https://localhost:8080/"
        },
        "id": "6utDy1eqzfxL",
        "outputId": "47e8b5ed-e429-44f8-f998-be43f81ca5fe"
      },
      "execution_count": null,
      "outputs": [
        {
          "output_type": "execute_result",
          "data": {
            "text/plain": [
              "0.002"
            ]
          },
          "metadata": {},
          "execution_count": 21
        }
      ]
    },
    {
      "cell_type": "code",
      "source": [
        "model_ar4 = ARIMA(df_comp.market_value, order = [4,0,0])\n",
        "results_ar4 = model_ar4.fit()\n",
        "print(results_ar4.summary())\n",
        "print ( \"LLR test : \" + str (LLR_test(model_ar3, model_ar4)))"
      ],
      "metadata": {
        "colab": {
          "base_uri": "https://localhost:8080/"
        },
        "id": "7mJE5JqtztfK",
        "outputId": "c387e185-b236-4adb-ee86-adcc05bead4b"
      },
      "execution_count": null,
      "outputs": [
        {
          "output_type": "stream",
          "name": "stdout",
          "text": [
            "                               SARIMAX Results                                \n",
            "==============================================================================\n",
            "Dep. Variable:           market_value   No. Observations:                 6277\n",
            "Model:                 ARIMA(4, 0, 0)   Log Likelihood              -34421.768\n",
            "Date:                Tue, 13 Jun 2023   AIC                          68855.536\n",
            "Time:                        08:46:22   BIC                          68896.004\n",
            "Sample:                    01-07-1994   HQIC                         68869.557\n",
            "                         - 01-29-2018                                         \n",
            "Covariance Type:                  opg                                         \n",
            "==============================================================================\n",
            "                 coef    std err          z      P>|z|      [0.025      0.975]\n",
            "------------------------------------------------------------------------------\n",
            "const       5423.6798    518.610     10.458      0.000    4407.224    6440.136\n",
            "ar.L1          0.9873      0.009    111.237      0.000       0.970       1.005\n",
            "ar.L2         -0.0360      0.012     -2.970      0.003      -0.060      -0.012\n",
            "ar.L3         -0.0063      0.011     -0.550      0.582      -0.029       0.016\n",
            "ar.L4          0.0539      0.008      6.634      0.000       0.038       0.070\n",
            "sigma2      3390.7236     36.932     91.811      0.000    3318.339    3463.108\n",
            "===================================================================================\n",
            "Ljung-Box (L1) (Q):                   0.00   Jarque-Bera (JB):              3463.72\n",
            "Prob(Q):                              0.97   Prob(JB):                         0.00\n",
            "Heteroskedasticity (H):               1.07   Skew:                            -0.27\n",
            "Prob(H) (two-sided):                  0.15   Kurtosis:                         6.60\n",
            "===================================================================================\n",
            "\n",
            "Warnings:\n",
            "[1] Covariance matrix calculated using the outer product of gradients (complex-step).\n",
            "LLR test : 0.0\n"
          ]
        }
      ]
    },
    {
      "cell_type": "code",
      "source": [
        "model_ar5 = ARIMA(df_comp.market_value, order = [5,0,0])\n",
        "results_ar5 = model_ar5.fit()\n",
        "print(results_ar5.summary())\n",
        "print ( \"LLR test : \" + str (LLR_test(model_ar4, model_ar5)))"
      ],
      "metadata": {
        "colab": {
          "base_uri": "https://localhost:8080/"
        },
        "id": "arIKxhO30q02",
        "outputId": "6b1f8404-5665-42e2-8322-02c4d811932e"
      },
      "execution_count": null,
      "outputs": [
        {
          "output_type": "stream",
          "name": "stdout",
          "text": [
            "                               SARIMAX Results                                \n",
            "==============================================================================\n",
            "Dep. Variable:           market_value   No. Observations:                 6277\n",
            "Model:                 ARIMA(5, 0, 0)   Log Likelihood              -34421.477\n",
            "Date:                Tue, 13 Jun 2023   AIC                          68856.955\n",
            "Time:                        08:46:25   BIC                          68904.167\n",
            "Sample:                    01-07-1994   HQIC                         68873.313\n",
            "                         - 01-29-2018                                         \n",
            "Covariance Type:                  opg                                         \n",
            "==============================================================================\n",
            "                 coef    std err          z      P>|z|      [0.025      0.975]\n",
            "------------------------------------------------------------------------------\n",
            "const       5423.6798    514.421     10.543      0.000    4415.432    6431.927\n",
            "ar.L1          0.9878      0.009    111.205      0.000       0.970       1.005\n",
            "ar.L2         -0.0361      0.012     -2.975      0.003      -0.060      -0.012\n",
            "ar.L3         -0.0066      0.011     -0.581      0.561      -0.029       0.016\n",
            "ar.L4          0.0635      0.012      5.439      0.000       0.041       0.086\n",
            "ar.L5         -0.0097      0.008     -1.185      0.236      -0.026       0.006\n",
            "sigma2      3390.9019     37.140     91.301      0.000    3318.110    3463.694\n",
            "===================================================================================\n",
            "Ljung-Box (L1) (Q):                   0.00   Jarque-Bera (JB):              3433.89\n",
            "Prob(Q):                              0.98   Prob(JB):                         0.00\n",
            "Heteroskedasticity (H):               1.07   Skew:                            -0.26\n",
            "Prob(H) (two-sided):                  0.14   Kurtosis:                         6.59\n",
            "===================================================================================\n",
            "\n",
            "Warnings:\n",
            "[1] Covariance matrix calculated using the outer product of gradients (complex-step).\n",
            "LLR test : 0.446\n"
          ]
        }
      ]
    },
    {
      "cell_type": "code",
      "source": [
        "model_ar6 = ARIMA(df_comp.market_value, order = [6,0,0])\n",
        "results_ar6 = model_ar6.fit()\n",
        "print(results_ar6.summary())\n",
        "print ( \"LLR test : \" + str (LLR_test(model_ar5, model_ar6)))"
      ],
      "metadata": {
        "colab": {
          "base_uri": "https://localhost:8080/"
        },
        "id": "0yguACtW0x19",
        "outputId": "b11d7dbb-f607-47b5-f0e4-d3bff68c7788"
      },
      "execution_count": null,
      "outputs": [
        {
          "output_type": "stream",
          "name": "stdout",
          "text": [
            "                               SARIMAX Results                                \n",
            "==============================================================================\n",
            "Dep. Variable:           market_value   No. Observations:                 6277\n",
            "Model:                 ARIMA(6, 0, 0)   Log Likelihood              -34416.802\n",
            "Date:                Tue, 13 Jun 2023   AIC                          68849.604\n",
            "Time:                        08:46:33   BIC                          68903.561\n",
            "Sample:                    01-07-1994   HQIC                         68868.299\n",
            "                         - 01-29-2018                                         \n",
            "Covariance Type:                  opg                                         \n",
            "==============================================================================\n",
            "                 coef    std err          z      P>|z|      [0.025      0.975]\n",
            "------------------------------------------------------------------------------\n",
            "const       5423.6798    535.041     10.137      0.000    4375.019    6472.340\n",
            "ar.L1          0.9882      0.009    110.213      0.000       0.971       1.006\n",
            "ar.L2         -0.0385      0.012     -3.148      0.002      -0.063      -0.015\n",
            "ar.L3         -0.0064      0.011     -0.556      0.578      -0.029       0.016\n",
            "ar.L4          0.0649      0.012      5.557      0.000       0.042       0.088\n",
            "ar.L5         -0.0478      0.011     -4.259      0.000      -0.070      -0.026\n",
            "ar.L6          0.0385      0.008      4.691      0.000       0.022       0.055\n",
            "sigma2      3386.2104     37.063     91.363      0.000    3313.568    3458.853\n",
            "===================================================================================\n",
            "Ljung-Box (L1) (Q):                   0.01   Jarque-Bera (JB):              3438.42\n",
            "Prob(Q):                              0.92   Prob(JB):                         0.00\n",
            "Heteroskedasticity (H):               1.07   Skew:                            -0.28\n",
            "Prob(H) (two-sided):                  0.14   Kurtosis:                         6.58\n",
            "===================================================================================\n",
            "\n",
            "Warnings:\n",
            "[1] Covariance matrix calculated using the outer product of gradients (complex-step).\n",
            "LLR test : 0.002\n"
          ]
        }
      ]
    },
    {
      "cell_type": "code",
      "source": [
        "model_ar7 = ARIMA(df_comp.market_value, order = [7,0,0])\n",
        "results_ar7 = model_ar7.fit()\n",
        "print(results_ar7.summary())\n",
        "print ( \"LLR test : \" + str (LLR_test(model_ar6, model_ar7)))"
      ],
      "metadata": {
        "colab": {
          "base_uri": "https://localhost:8080/"
        },
        "id": "SFnD7BoP09P3",
        "outputId": "b2ce68c6-be7e-47d6-d505-a53978442734"
      },
      "execution_count": null,
      "outputs": [
        {
          "output_type": "stream",
          "name": "stdout",
          "text": [
            "                               SARIMAX Results                                \n",
            "==============================================================================\n",
            "Dep. Variable:           market_value   No. Observations:                 6277\n",
            "Model:                 ARIMA(7, 0, 0)   Log Likelihood              -34414.286\n",
            "Date:                Tue, 13 Jun 2023   AIC                          68846.572\n",
            "Time:                        08:46:39   BIC                          68907.274\n",
            "Sample:                    01-07-1994   HQIC                         68867.604\n",
            "                         - 01-29-2018                                         \n",
            "Covariance Type:                  opg                                         \n",
            "==============================================================================\n",
            "                 coef    std err          z      P>|z|      [0.025      0.975]\n",
            "------------------------------------------------------------------------------\n",
            "const       5423.6798    548.164      9.894      0.000    4349.297    6498.062\n",
            "ar.L1          0.9871      0.009    109.238      0.000       0.969       1.005\n",
            "ar.L2         -0.0372      0.012     -2.996      0.003      -0.062      -0.013\n",
            "ar.L3         -0.0082      0.011     -0.714      0.475      -0.031       0.014\n",
            "ar.L4          0.0650      0.012      5.572      0.000       0.042       0.088\n",
            "ar.L5         -0.0467      0.011     -4.157      0.000      -0.069      -0.025\n",
            "ar.L6          0.0106      0.012      0.916      0.360      -0.012       0.033\n",
            "ar.L7          0.0283      0.009      3.233      0.001       0.011       0.045\n",
            "sigma2      3384.0371     37.041     91.360      0.000    3311.438    3456.636\n",
            "===================================================================================\n",
            "Ljung-Box (L1) (Q):                   0.00   Jarque-Bera (JB):              3452.85\n",
            "Prob(Q):                              1.00   Prob(JB):                         0.00\n",
            "Heteroskedasticity (H):               1.07   Skew:                            -0.29\n",
            "Prob(H) (two-sided):                  0.12   Kurtosis:                         6.59\n",
            "===================================================================================\n",
            "\n",
            "Warnings:\n",
            "[1] Covariance matrix calculated using the outer product of gradients (complex-step).\n",
            "LLR test : 0.025\n"
          ]
        }
      ]
    },
    {
      "cell_type": "code",
      "source": [
        "model_ar8 = ARIMA(df_comp.market_value, order = [8,0,0])\n",
        "results_ar8 = model_ar8.fit()\n",
        "print(results_ar8.summary())\n",
        "print ( \"LLR test : \" + str (LLR_test(model_ar7, model_ar8)))"
      ],
      "metadata": {
        "colab": {
          "base_uri": "https://localhost:8080/"
        },
        "id": "81Wu5Ctg1p99",
        "outputId": "0d53232b-f1b2-4a06-a71e-69a0a963eddf"
      },
      "execution_count": null,
      "outputs": [
        {
          "output_type": "stream",
          "name": "stdout",
          "text": [
            "                               SARIMAX Results                                \n",
            "==============================================================================\n",
            "Dep. Variable:           market_value   No. Observations:                 6277\n",
            "Model:                 ARIMA(8, 0, 0)   Log Likelihood              -34414.200\n",
            "Date:                Tue, 13 Jun 2023   AIC                          68848.400\n",
            "Time:                        08:46:47   BIC                          68915.847\n",
            "Sample:                    01-07-1994   HQIC                         68871.769\n",
            "                         - 01-29-2018                                         \n",
            "Covariance Type:                  opg                                         \n",
            "==============================================================================\n",
            "                 coef    std err          z      P>|z|      [0.025      0.975]\n",
            "------------------------------------------------------------------------------\n",
            "const       5423.6798    550.331      9.855      0.000    4345.051    6502.309\n",
            "ar.L1          0.9873      0.009    109.205      0.000       0.970       1.005\n",
            "ar.L2         -0.0372      0.012     -2.988      0.003      -0.062      -0.013\n",
            "ar.L3         -0.0085      0.012     -0.731      0.465      -0.031       0.014\n",
            "ar.L4          0.0654      0.012      5.553      0.000       0.042       0.088\n",
            "ar.L5         -0.0467      0.011     -4.159      0.000      -0.069      -0.025\n",
            "ar.L6          0.0104      0.012      0.898      0.369      -0.012       0.033\n",
            "ar.L7          0.0333      0.013      2.618      0.009       0.008       0.058\n",
            "ar.L8         -0.0051      0.009     -0.569      0.569      -0.023       0.012\n",
            "sigma2      3384.3667     37.098     91.229      0.000    3311.657    3457.077\n",
            "===================================================================================\n",
            "Ljung-Box (L1) (Q):                   0.00   Jarque-Bera (JB):              3446.41\n",
            "Prob(Q):                              0.99   Prob(JB):                         0.00\n",
            "Heteroskedasticity (H):               1.07   Skew:                            -0.29\n",
            "Prob(H) (two-sided):                  0.12   Kurtosis:                         6.58\n",
            "===================================================================================\n",
            "\n",
            "Warnings:\n",
            "[1] Covariance matrix calculated using the outer product of gradients (complex-step).\n",
            "LLR test : 0.678\n"
          ]
        }
      ]
    },
    {
      "cell_type": "code",
      "source": [
        "#repeat the same process for different vales"
      ],
      "metadata": {
        "id": "rhLHepKui_F6"
      },
      "execution_count": null,
      "outputs": []
    },
    {
      "cell_type": "code",
      "source": [
        "#AR models work best when data comes from stationarity process"
      ],
      "metadata": {
        "id": "cS9aJ1vUmgs7"
      },
      "execution_count": null,
      "outputs": []
    },
    {
      "cell_type": "code",
      "source": [
        "print(\"LLR test : \" + str(LLR_test(model_ar1, model_ar7, DF=6)))"
      ],
      "metadata": {
        "colab": {
          "base_uri": "https://localhost:8080/"
        },
        "id": "KO_DcH-k2YQu",
        "outputId": "128152dd-8864-4558-e513-cdbbe1459011"
      },
      "execution_count": null,
      "outputs": [
        {
          "output_type": "stream",
          "name": "stdout",
          "text": [
            "LLR test : 0.0\n"
          ]
        }
      ]
    },
    {
      "cell_type": "markdown",
      "source": [
        "The Dickey-Fuller Test\n"
      ],
      "metadata": {
        "id": "s1oY7ng-druS"
      }
    },
    {
      "cell_type": "code",
      "source": [
        "import statsmodels.tsa.stattools as sts\n",
        "from statsmodels.tsa.seasonal import seasonal_decompose"
      ],
      "metadata": {
        "id": "QQPv09-7eCPg"
      },
      "execution_count": null,
      "outputs": []
    },
    {
      "cell_type": "code",
      "source": [
        "sts.adfuller(df_comp.market_value)\n",
        "# p>0.05 ==> non-stationarity data"
      ],
      "metadata": {
        "colab": {
          "base_uri": "https://localhost:8080/"
        },
        "id": "z1UIg7xUmtD2",
        "outputId": "3daea041-04f4-4466-87ab-47612dc48046"
      },
      "execution_count": null,
      "outputs": [
        {
          "output_type": "execute_result",
          "data": {
            "text/plain": [
              "(-1.5977788921179854,\n",
              " 0.48470912054659654,\n",
              " 6,\n",
              " 6270,\n",
              " {'1%': -3.4313933778649943,\n",
              "  '5%': -2.862001080749219,\n",
              "  '10%': -2.567015430304048},\n",
              " 68476.87620974617)"
            ]
          },
          "metadata": {},
          "execution_count": 31
        }
      ]
    },
    {
      "cell_type": "markdown",
      "source": [
        "Using Returns"
      ],
      "metadata": {
        "id": "Z3pUxA2Dfbo6"
      }
    },
    {
      "cell_type": "code",
      "source": [
        "df_comp['returns'] = df_comp.market_value.pct_change(1).mul(100)\n",
        "df = df_comp.iloc[1:]"
      ],
      "metadata": {
        "id": "eDaVFocTfdkY"
      },
      "execution_count": null,
      "outputs": []
    },
    {
      "cell_type": "code",
      "source": [
        "sts.adfuller(df.returns)\n",
        "#data comes from stationarity process"
      ],
      "metadata": {
        "colab": {
          "base_uri": "https://localhost:8080/"
        },
        "id": "R0HTgqua792N",
        "outputId": "5ccb3aca-c068-43c5-f995-ccf0274cdf47"
      },
      "execution_count": null,
      "outputs": [
        {
          "output_type": "execute_result",
          "data": {
            "text/plain": [
              "(-15.140761332034833,\n",
              " 7.016338451093401e-28,\n",
              " 34,\n",
              " 6241,\n",
              " {'1%': -3.431398228116075,\n",
              "  '5%': -2.8620032237533897,\n",
              "  '10%': -2.5670165710764503},\n",
              " 19026.504469066465)"
            ]
          },
          "metadata": {},
          "execution_count": 35
        }
      ]
    },
    {
      "cell_type": "markdown",
      "source": [
        "ACF Returns"
      ],
      "metadata": {
        "id": "9v3RacFK8X9r"
      }
    },
    {
      "cell_type": "code",
      "source": [
        "sgt.plot_acf(df.returns, zero = False, lags = 40)\n",
        "plt.title(\"ACF FTSE Returns\", size = 20)\n",
        "plt.show()"
      ],
      "metadata": {
        "colab": {
          "base_uri": "https://localhost:8080/",
          "height": 465
        },
        "id": "_HzhCC7u8IRg",
        "outputId": "11a87246-41b8-4ee0-d5dc-db954ecca21e"
      },
      "execution_count": null,
      "outputs": [
        {
          "output_type": "display_data",
          "data": {
            "text/plain": [
              "<Figure size 640x480 with 1 Axes>"
            ],
            "image/png": "[encoded data removed]"
          },
          "metadata": {}
        }
      ]
    },
    {
      "cell_type": "code",
      "source": [
        "sgt.plot_pacf(df.returns, lags = 40, alpha = 0.05, zero = False, method = ('ols'))\n",
        "plt.title(\"PACF FTSE\", size = 20)\n",
        "plt.show()"
      ],
      "metadata": {
        "colab": {
          "base_uri": "https://localhost:8080/",
          "height": 465
        },
        "id": "GvVORLiR8wih",
        "outputId": "766c3c7c-5d7e-42b5-a4b3-59d4a69f1a6d"
      },
      "execution_count": null,
      "outputs": [
        {
          "output_type": "display_data",
          "data": {
            "text/plain": [
              "<Figure size 640x480 with 1 Axes>"
            ],
            "image/png": "[encoded data removed]"
          },
          "metadata": {}
        }
      ]
    },
    {
      "cell_type": "markdown",
      "source": [
        "AR(1) For Returns"
      ],
      "metadata": {
        "id": "MTFJp2gy9aS-"
      }
    },
    {
      "cell_type": "code",
      "source": [
        "model_ret_ar1 = ARIMA(df.returns, order = (1,0,0))"
      ],
      "metadata": {
        "id": "UHVuskC59fZD"
      },
      "execution_count": null,
      "outputs": []
    },
    {
      "cell_type": "code",
      "source": [
        "results_ret_ar1 = model_ret_ar1.fit()"
      ],
      "metadata": {
        "id": "BHoLgP_S90tO"
      },
      "execution_count": null,
      "outputs": []
    },
    {
      "cell_type": "code",
      "source": [
        "results_ret_ar1.summary()"
      ],
      "metadata": {
        "colab": {
          "base_uri": "https://localhost:8080/",
          "height": 420
        },
        "id": "fb48Z6eE-H8J",
        "outputId": "e0b0b94f-c77e-4cb0-ddcc-e9d09acea670"
      },
      "execution_count": null,
      "outputs": [
        {
          "output_type": "execute_result",
          "data": {
            "text/plain": [
              "<class 'statsmodels.iolib.summary.Summary'>\n",
              "\"\"\"\n",
              "                               SARIMAX Results                                \n",
              "==============================================================================\n",
              "Dep. Variable:                returns   No. Observations:                 6276\n",
              "Model:                 ARIMA(1, 0, 0)   Log Likelihood               -9597.705\n",
              "Date:                Tue, 13 Jun 2023   AIC                          19201.409\n",
              "Time:                        08:58:09   BIC                          19221.643\n",
              "Sample:                    01-10-1994   HQIC                         19208.420\n",
              "                         - 01-29-2018                                         \n",
              "Covariance Type:                  opg                                         \n",
              "==============================================================================\n",
              "                 coef    std err          z      P>|z|      [0.025      0.975]\n",
              "------------------------------------------------------------------------------\n",
              "const          0.0190      0.014      1.353      0.176      -0.009       0.047\n",
              "ar.L1         -0.0176      0.007     -2.345      0.019      -0.032      -0.003\n",
              "sigma2         1.2469      0.011    113.319      0.000       1.225       1.268\n",
              "===================================================================================\n",
              "Ljung-Box (L1) (Q):                   0.00   Jarque-Bera (JB):             10512.45\n",
              "Prob(Q):                              0.95   Prob(JB):                         0.00\n",
              "Heteroskedasticity (H):               0.85   Skew:                            -0.04\n",
              "Prob(H) (two-sided):                  0.00   Kurtosis:                         9.34\n",
              "===================================================================================\n",
              "\n",
              "Warnings:\n",
              "[1] Covariance matrix calculated using the outer product of gradients (complex-step).\n",
              "\"\"\""
            ],
            "text/html": [
              "<table class=\"simpletable\">\n",
              "<caption>SARIMAX Results</caption>\n",
              "<tr>\n",
              "  <th>Dep. Variable:</th>        <td>returns</td>     <th>  No. Observations:  </th>   <td>6276</td>   \n",
              "</tr>\n",
              "<tr>\n",
              "  <th>Model:</th>            <td>ARIMA(1, 0, 0)</td>  <th>  Log Likelihood     </th> <td>-9597.705</td>\n",
              "</tr>\n",
              "<tr>\n",
              "  <th>Date:</th>            <td>Tue, 13 Jun 2023</td> <th>  AIC                </th> <td>19201.409</td>\n",
              "</tr>\n",
              "<tr>\n",
              "  <th>Time:</th>                <td>08:58:09</td>     <th>  BIC                </th> <td>19221.643</td>\n",
              "</tr>\n",
              "<tr>\n",
              "  <th>Sample:</th>             <td>01-10-1994</td>    <th>  HQIC               </th> <td>19208.420</td>\n",
              "</tr>\n",
              "<tr>\n",
              "  <th></th>                   <td>- 01-29-2018</td>   <th>                     </th>     <td> </td>    \n",
              "</tr>\n",
              "<tr>\n",
              "  <th>Covariance Type:</th>        <td>opg</td>       <th>                     </th>     <td> </td>    \n",
              "</tr>\n",
              "</table>\n",
              "<table class=\"simpletable\">\n",
              "<tr>\n",
              "     <td></td>       <th>coef</th>     <th>std err</th>      <th>z</th>      <th>P>|z|</th>  <th>[0.025</th>    <th>0.975]</th>  \n",
              "</tr>\n",
              "<tr>\n",
              "  <th>const</th>  <td>    0.0190</td> <td>    0.014</td> <td>    1.353</td> <td> 0.176</td> <td>   -0.009</td> <td>    0.047</td>\n",
              "</tr>\n",
              "<tr>\n",
              "  <th>ar.L1</th>  <td>   -0.0176</td> <td>    0.007</td> <td>   -2.345</td> <td> 0.019</td> <td>   -0.032</td> <td>   -0.003</td>\n",
              "</tr>\n",
              "<tr>\n",
              "  <th>sigma2</th> <td>    1.2469</td> <td>    0.011</td> <td>  113.319</td> <td> 0.000</td> <td>    1.225</td> <td>    1.268</td>\n",
              "</tr>\n",
              "</table>\n",
              "<table class=\"simpletable\">\n",
              "<tr>\n",
              "  <th>Ljung-Box (L1) (Q):</th>     <td>0.00</td> <th>  Jarque-Bera (JB):  </th> <td>10512.45</td>\n",
              "</tr>\n",
              "<tr>\n",
              "  <th>Prob(Q):</th>                <td>0.95</td> <th>  Prob(JB):          </th>   <td>0.00</td>  \n",
              "</tr>\n",
              "<tr>\n",
              "  <th>Heteroskedasticity (H):</th> <td>0.85</td> <th>  Skew:              </th>   <td>-0.04</td> \n",
              "</tr>\n",
              "<tr>\n",
              "  <th>Prob(H) (two-sided):</th>    <td>0.00</td> <th>  Kurtosis:          </th>   <td>9.34</td>  \n",
              "</tr>\n",
              "</table><br/><br/>Warnings:<br/>[1] Covariance matrix calculated using the outer product of gradients (complex-step)."
            ]
          },
          "metadata": {},
          "execution_count": 48
        }
      ]
    },
    {
      "cell_type": "markdown",
      "source": [
        "Higher Lag AR Models for returns"
      ],
      "metadata": {
        "id": "kl7qPGmD-hk8"
      }
    },
    {
      "cell_type": "code",
      "source": [
        "model_ret_ar2 = ARIMA(df.returns, order = (2,0,0))\n",
        "results_ret_ar2 = model_ret_ar2.fit()\n",
        "results_ret_ar2.summary()\n"
      ],
      "metadata": {
        "colab": {
          "base_uri": "https://localhost:8080/",
          "height": 441
        },
        "id": "z6UoyaUe-nSV",
        "outputId": "820f9ecb-b5d9-46d8-82dc-772d8d6de395"
      },
      "execution_count": null,
      "outputs": [
        {
          "output_type": "execute_result",
          "data": {
            "text/plain": [
              "<class 'statsmodels.iolib.summary.Summary'>\n",
              "\"\"\"\n",
              "                               SARIMAX Results                                \n",
              "==============================================================================\n",
              "Dep. Variable:                returns   No. Observations:                 6276\n",
              "Model:                 ARIMA(2, 0, 0)   Log Likelihood               -9590.309\n",
              "Date:                Tue, 13 Jun 2023   AIC                          19188.618\n",
              "Time:                        08:59:53   BIC                          19215.596\n",
              "Sample:                    01-10-1994   HQIC                         19197.966\n",
              "                         - 01-29-2018                                         \n",
              "Covariance Type:                  opg                                         \n",
              "==============================================================================\n",
              "                 coef    std err          z      P>|z|      [0.025      0.975]\n",
              "------------------------------------------------------------------------------\n",
              "const          0.0190      0.013      1.409      0.159      -0.007       0.045\n",
              "ar.L1         -0.0184      0.008     -2.432      0.015      -0.033      -0.004\n",
              "ar.L2         -0.0485      0.007     -6.981      0.000      -0.062      -0.035\n",
              "sigma2         1.2440      0.011    112.784      0.000       1.222       1.266\n",
              "===================================================================================\n",
              "Ljung-Box (L1) (Q):                   0.07   Jarque-Bera (JB):             10336.58\n",
              "Prob(Q):                              0.79   Prob(JB):                         0.00\n",
              "Heteroskedasticity (H):               0.85   Skew:                            -0.07\n",
              "Prob(H) (two-sided):                  0.00   Kurtosis:                         9.29\n",
              "===================================================================================\n",
              "\n",
              "Warnings:\n",
              "[1] Covariance matrix calculated using the outer product of gradients (complex-step).\n",
              "\"\"\""
            ],
            "text/html": [
              "<table class=\"simpletable\">\n",
              "<caption>SARIMAX Results</caption>\n",
              "<tr>\n",
              "  <th>Dep. Variable:</th>        <td>returns</td>     <th>  No. Observations:  </th>   <td>6276</td>   \n",
              "</tr>\n",
              "<tr>\n",
              "  <th>Model:</th>            <td>ARIMA(2, 0, 0)</td>  <th>  Log Likelihood     </th> <td>-9590.309</td>\n",
              "</tr>\n",
              "<tr>\n",
              "  <th>Date:</th>            <td>Tue, 13 Jun 2023</td> <th>  AIC                </th> <td>19188.618</td>\n",
              "</tr>\n",
              "<tr>\n",
              "  <th>Time:</th>                <td>08:59:53</td>     <th>  BIC                </th> <td>19215.596</td>\n",
              "</tr>\n",
              "<tr>\n",
              "  <th>Sample:</th>             <td>01-10-1994</td>    <th>  HQIC               </th> <td>19197.966</td>\n",
              "</tr>\n",
              "<tr>\n",
              "  <th></th>                   <td>- 01-29-2018</td>   <th>                     </th>     <td> </td>    \n",
              "</tr>\n",
              "<tr>\n",
              "  <th>Covariance Type:</th>        <td>opg</td>       <th>                     </th>     <td> </td>    \n",
              "</tr>\n",
              "</table>\n",
              "<table class=\"simpletable\">\n",
              "<tr>\n",
              "     <td></td>       <th>coef</th>     <th>std err</th>      <th>z</th>      <th>P>|z|</th>  <th>[0.025</th>    <th>0.975]</th>  \n",
              "</tr>\n",
              "<tr>\n",
              "  <th>const</th>  <td>    0.0190</td> <td>    0.013</td> <td>    1.409</td> <td> 0.159</td> <td>   -0.007</td> <td>    0.045</td>\n",
              "</tr>\n",
              "<tr>\n",
              "  <th>ar.L1</th>  <td>   -0.0184</td> <td>    0.008</td> <td>   -2.432</td> <td> 0.015</td> <td>   -0.033</td> <td>   -0.004</td>\n",
              "</tr>\n",
              "<tr>\n",
              "  <th>ar.L2</th>  <td>   -0.0485</td> <td>    0.007</td> <td>   -6.981</td> <td> 0.000</td> <td>   -0.062</td> <td>   -0.035</td>\n",
              "</tr>\n",
              "<tr>\n",
              "  <th>sigma2</th> <td>    1.2440</td> <td>    0.011</td> <td>  112.784</td> <td> 0.000</td> <td>    1.222</td> <td>    1.266</td>\n",
              "</tr>\n",
              "</table>\n",
              "<table class=\"simpletable\">\n",
              "<tr>\n",
              "  <th>Ljung-Box (L1) (Q):</th>     <td>0.07</td> <th>  Jarque-Bera (JB):  </th> <td>10336.58</td>\n",
              "</tr>\n",
              "<tr>\n",
              "  <th>Prob(Q):</th>                <td>0.79</td> <th>  Prob(JB):          </th>   <td>0.00</td>  \n",
              "</tr>\n",
              "<tr>\n",
              "  <th>Heteroskedasticity (H):</th> <td>0.85</td> <th>  Skew:              </th>   <td>-0.07</td> \n",
              "</tr>\n",
              "<tr>\n",
              "  <th>Prob(H) (two-sided):</th>    <td>0.00</td> <th>  Kurtosis:          </th>   <td>9.29</td>  \n",
              "</tr>\n",
              "</table><br/><br/>Warnings:<br/>[1] Covariance matrix calculated using the outer product of gradients (complex-step)."
            ]
          },
          "metadata": {},
          "execution_count": 49
        }
      ]
    },
    {
      "cell_type": "markdown",
      "source": [
        "This means b2 is significantly different from zero , and must be included in the model, also p value has decreased"
      ],
      "metadata": {
        "id": "-sBpGBIN_B3s"
      }
    },
    {
      "cell_type": "markdown",
      "source": [
        "LLR Test"
      ],
      "metadata": {
        "id": "CpsVOPHI_SAV"
      }
    },
    {
      "cell_type": "code",
      "source": [
        "LLR_test(model_ret_ar1, model_ret_ar2)\n",
        "\n",
        "#AR(2) > AR(1)"
      ],
      "metadata": {
        "colab": {
          "base_uri": "https://localhost:8080/"
        },
        "id": "xfXXHV_L_VDj",
        "outputId": "63c5edb9-faa9-4a15-ecb8-6fe68d60f1c1"
      },
      "execution_count": null,
      "outputs": [
        {
          "output_type": "execute_result",
          "data": {
            "text/plain": [
              "0.0"
            ]
          },
          "metadata": {},
          "execution_count": 51
        }
      ]
    },
    {
      "cell_type": "markdown",
      "source": [
        "Normalising Values"
      ],
      "metadata": {
        "id": "cWSeoLDsBB-u"
      }
    },
    {
      "cell_type": "code",
      "source": [
        "benchmark = df_comp.market_value.iloc[0]\n",
        "df_comp['norm'] = df_comp.market_value.div(benchmark).mul(100)\n",
        "sts.adfuller(df_comp.norm)"
      ],
      "metadata": {
        "colab": {
          "base_uri": "https://localhost:8080/"
        },
        "id": "7f750xSLBUKf",
        "outputId": "ec4bb278-9781-47e9-9343-c35a813c8228"
      },
      "execution_count": null,
      "outputs": [
        {
          "output_type": "execute_result",
          "data": {
            "text/plain": [
              "(-1.5977788921182068,\n",
              " 0.48470912054648535,\n",
              " 6,\n",
              " 6270,\n",
              " {'1%': -3.4313933778649943,\n",
              "  '5%': -2.862001080749219,\n",
              "  '10%': -2.567015430304048},\n",
              " 24286.095063927056)"
            ]
          },
          "metadata": {},
          "execution_count": 53
        }
      ]
    },
    {
      "cell_type": "markdown",
      "source": [
        "Normalising Returns"
      ],
      "metadata": {
        "id": "buoU_APiCA4v"
      }
    },
    {
      "cell_type": "code",
      "source": [
        "bench_ret = df.returns.iloc[0]\n",
        "df['norm_ret'] = df.returns.div(bench_ret).mul(100)\n",
        "sts.adfuller(df.norm_ret)"
      ],
      "metadata": {
        "colab": {
          "base_uri": "https://localhost:8080/"
        },
        "id": "Vg2q-0puB6VA",
        "outputId": "ee443963-1cc9-4c66-ef78-d2f2006e7472"
      },
      "execution_count": null,
      "outputs": [
        {
          "output_type": "stream",
          "name": "stderr",
          "text": [
            "<ipython-input-58-4c0e57a94e6c>:2: SettingWithCopyWarning: \n",
            "A value is trying to be set on a copy of a slice from a DataFrame.\n",
            "Try using .loc[row_indexer,col_indexer] = value instead\n",
            "\n",
            "See the caveats in the documentation: https://pandas.pydata.org/pandas-docs/stable/user_guide/indexing.html#returning-a-view-versus-a-copy\n",
            "  df['norm_ret'] = df.returns.div(bench_ret).mul(100)\n"
          ]
        },
        {
          "output_type": "execute_result",
          "data": {
            "text/plain": [
              "(-15.140761332034836,\n",
              " 7.016338451093401e-28,\n",
              " 34,\n",
              " 6241,\n",
              " {'1%': -3.431398228116075,\n",
              "  '5%': -2.8620032237533897,\n",
              "  '10%': -2.5670165710764503},\n",
              " 99642.30855107102)"
            ]
          },
          "metadata": {},
          "execution_count": 58
        }
      ]
    },
    {
      "cell_type": "markdown",
      "source": [
        "Normalised Returns"
      ],
      "metadata": {
        "id": "CR8tqjblCpUM"
      }
    },
    {
      "cell_type": "code",
      "source": [
        "model_norm_ret_ar1 = ARIMA(df.norm_ret, order = (1,0,0))\n",
        "results_norm_ret_ar1 =model_norm_ret_ar1.fit()\n",
        "results_norm_ret_ar1.summary()\n",
        "\n",
        "# normalising doesn't have any effect on model selection"
      ],
      "metadata": {
        "colab": {
          "base_uri": "https://localhost:8080/",
          "height": 420
        },
        "id": "jrvHYMDgCrUu",
        "outputId": "cb85ea96-74c1-4d07-c60f-c8f1ac46273c"
      },
      "execution_count": null,
      "outputs": [
        {
          "output_type": "execute_result",
          "data": {
            "text/plain": [
              "<class 'statsmodels.iolib.summary.Summary'>\n",
              "\"\"\"\n",
              "                               SARIMAX Results                                \n",
              "==============================================================================\n",
              "Dep. Variable:               norm_ret   No. Observations:                 6276\n",
              "Model:                 ARIMA(1, 0, 0)   Log Likelihood              -50131.657\n",
              "Date:                Tue, 13 Jun 2023   AIC                         100269.313\n",
              "Time:                        09:20:57   BIC                         100289.547\n",
              "Sample:                    01-10-1994   HQIC                        100276.324\n",
              "                         - 01-29-2018                                         \n",
              "Covariance Type:                  opg                                         \n",
              "==============================================================================\n",
              "                 coef    std err          z      P>|z|      [0.025      0.975]\n",
              "------------------------------------------------------------------------------\n",
              "const        -12.1199      8.959     -1.353      0.176     -29.679       5.439\n",
              "ar.L1         -0.0176      0.008     -2.346      0.019      -0.032      -0.003\n",
              "sigma2      5.079e+05   4482.359    113.301      0.000    4.99e+05    5.17e+05\n",
              "===================================================================================\n",
              "Ljung-Box (L1) (Q):                   0.00   Jarque-Bera (JB):             10512.40\n",
              "Prob(Q):                              0.95   Prob(JB):                         0.00\n",
              "Heteroskedasticity (H):               0.85   Skew:                             0.04\n",
              "Prob(H) (two-sided):                  0.00   Kurtosis:                         9.34\n",
              "===================================================================================\n",
              "\n",
              "Warnings:\n",
              "[1] Covariance matrix calculated using the outer product of gradients (complex-step).\n",
              "\"\"\""
            ],
            "text/html": [
              "<table class=\"simpletable\">\n",
              "<caption>SARIMAX Results</caption>\n",
              "<tr>\n",
              "  <th>Dep. Variable:</th>       <td>norm_ret</td>     <th>  No. Observations:  </th>    <td>6276</td>   \n",
              "</tr>\n",
              "<tr>\n",
              "  <th>Model:</th>            <td>ARIMA(1, 0, 0)</td>  <th>  Log Likelihood     </th> <td>-50131.657</td>\n",
              "</tr>\n",
              "<tr>\n",
              "  <th>Date:</th>            <td>Tue, 13 Jun 2023</td> <th>  AIC                </th> <td>100269.313</td>\n",
              "</tr>\n",
              "<tr>\n",
              "  <th>Time:</th>                <td>09:20:57</td>     <th>  BIC                </th> <td>100289.547</td>\n",
              "</tr>\n",
              "<tr>\n",
              "  <th>Sample:</th>             <td>01-10-1994</td>    <th>  HQIC               </th> <td>100276.324</td>\n",
              "</tr>\n",
              "<tr>\n",
              "  <th></th>                   <td>- 01-29-2018</td>   <th>                     </th>      <td> </td>    \n",
              "</tr>\n",
              "<tr>\n",
              "  <th>Covariance Type:</th>        <td>opg</td>       <th>                     </th>      <td> </td>    \n",
              "</tr>\n",
              "</table>\n",
              "<table class=\"simpletable\">\n",
              "<tr>\n",
              "     <td></td>       <th>coef</th>     <th>std err</th>      <th>z</th>      <th>P>|z|</th>  <th>[0.025</th>    <th>0.975]</th>  \n",
              "</tr>\n",
              "<tr>\n",
              "  <th>const</th>  <td>  -12.1199</td> <td>    8.959</td> <td>   -1.353</td> <td> 0.176</td> <td>  -29.679</td> <td>    5.439</td>\n",
              "</tr>\n",
              "<tr>\n",
              "  <th>ar.L1</th>  <td>   -0.0176</td> <td>    0.008</td> <td>   -2.346</td> <td> 0.019</td> <td>   -0.032</td> <td>   -0.003</td>\n",
              "</tr>\n",
              "<tr>\n",
              "  <th>sigma2</th> <td> 5.079e+05</td> <td> 4482.359</td> <td>  113.301</td> <td> 0.000</td> <td> 4.99e+05</td> <td> 5.17e+05</td>\n",
              "</tr>\n",
              "</table>\n",
              "<table class=\"simpletable\">\n",
              "<tr>\n",
              "  <th>Ljung-Box (L1) (Q):</th>     <td>0.00</td> <th>  Jarque-Bera (JB):  </th> <td>10512.40</td>\n",
              "</tr>\n",
              "<tr>\n",
              "  <th>Prob(Q):</th>                <td>0.95</td> <th>  Prob(JB):          </th>   <td>0.00</td>  \n",
              "</tr>\n",
              "<tr>\n",
              "  <th>Heteroskedasticity (H):</th> <td>0.85</td> <th>  Skew:              </th>   <td>0.04</td>  \n",
              "</tr>\n",
              "<tr>\n",
              "  <th>Prob(H) (two-sided):</th>    <td>0.00</td> <th>  Kurtosis:          </th>   <td>9.34</td>  \n",
              "</tr>\n",
              "</table><br/><br/>Warnings:<br/>[1] Covariance matrix calculated using the outer product of gradients (complex-step)."
            ]
          },
          "metadata": {},
          "execution_count": 60
        }
      ]
    },
    {
      "cell_type": "markdown",
      "source": [
        "Analysing the Residuals"
      ],
      "metadata": {
        "id": "TILeLV1NEEeA"
      }
    },
    {
      "cell_type": "code",
      "source": [
        "df['res_price'] = results_ar2.resid\n",
        "df.res_price.mean()"
      ],
      "metadata": {
        "colab": {
          "base_uri": "https://localhost:8080/"
        },
        "id": "2Y3TyiUmEGy9",
        "outputId": "bbed59d6-ff99-4431-8da8-24e26c78f000"
      },
      "execution_count": null,
      "outputs": [
        {
          "output_type": "stream",
          "name": "stderr",
          "text": [
            "<ipython-input-61-75945a51de44>:1: SettingWithCopyWarning: \n",
            "A value is trying to be set on a copy of a slice from a DataFrame.\n",
            "Try using .loc[row_indexer,col_indexer] = value instead\n",
            "\n",
            "See the caveats in the documentation: https://pandas.pydata.org/pandas-docs/stable/user_guide/indexing.html#returning-a-view-versus-a-copy\n",
            "  df['res_price'] = results_ar2.resid\n"
          ]
        },
        {
          "output_type": "execute_result",
          "data": {
            "text/plain": [
              "0.6786202617924102"
            ]
          },
          "metadata": {},
          "execution_count": 61
        }
      ]
    },
    {
      "cell_type": "code",
      "source": [
        "df.res_price.var()"
      ],
      "metadata": {
        "colab": {
          "base_uri": "https://localhost:8080/"
        },
        "id": "NGo0oyydEduC",
        "outputId": "451c19f7-a6f6-4d94-bf9b-ef7652ecf115"
      },
      "execution_count": null,
      "outputs": [
        {
          "output_type": "execute_result",
          "data": {
            "text/plain": [
              "3407.0658629696313"
            ]
          },
          "metadata": {},
          "execution_count": 62
        }
      ]
    },
    {
      "cell_type": "markdown",
      "source": [
        "AR models work very poorly in predicting non-stationarity data"
      ],
      "metadata": {
        "id": "gWEY4ksAEq_d"
      }
    },
    {
      "cell_type": "code",
      "source": [
        "sts.adfuller(df.res_price)"
      ],
      "metadata": {
        "colab": {
          "base_uri": "https://localhost:8080/"
        },
        "id": "n2yLOKMdEwtt",
        "outputId": "f9da0de9-f546-4672-f453-add778d1e5df"
      },
      "execution_count": null,
      "outputs": [
        {
          "output_type": "execute_result",
          "data": {
            "text/plain": [
              "(-35.480056586851994,\n",
              " 0.0,\n",
              " 5,\n",
              " 6270,\n",
              " {'1%': -3.4313933778649943,\n",
              "  '5%': -2.862001080749219,\n",
              "  '10%': -2.567015430304048},\n",
              " 68465.18443381597)"
            ]
          },
          "metadata": {},
          "execution_count": 65
        }
      ]
    },
    {
      "cell_type": "code",
      "source": [
        "sgt.plot_acf(df.res_price, zero = False, lags = 40)\n",
        "plt.title(\"ACF of Residuals for Prices\", size = 20)\n",
        "plt.show()"
      ],
      "metadata": {
        "colab": {
          "base_uri": "https://localhost:8080/",
          "height": 465
        },
        "id": "5J9wScHQFKkF",
        "outputId": "2f88dd0a-f705-4a47-bf07-a16851c43524"
      },
      "execution_count": null,
      "outputs": [
        {
          "output_type": "display_data",
          "data": {
            "text/plain": [
              "<Figure size 640x480 with 1 Axes>"
            ],
            "image/png": "[encoded data removed]"
          },
          "metadata": {}
        }
      ]
    },
    {
      "cell_type": "code",
      "source": [
        "df.res_price[1:].plot(figsize = (20,5))\n",
        "plt.title(\"Residuals of Prices\", size = 24)\n",
        "plt.show()\n",
        "\n",
        "# no obvious pattern, like white noise"
      ],
      "metadata": {
        "colab": {
          "base_uri": "https://localhost:8080/",
          "height": 402
        },
        "id": "qUUgcrxVFbGU",
        "outputId": "fc7bde3c-daa6-4396-d4de-dbf9290b09b8"
      },
      "execution_count": null,
      "outputs": [
        {
          "output_type": "display_data",
          "data": {
            "text/plain": [
              "<Figure size 2000x500 with 1 Axes>"
            ],
            "image/png": "[encoded data removed]"
          },
          "metadata": {}
        }
      ]
    }
  ]
}